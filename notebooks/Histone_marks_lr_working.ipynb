{
 "cells": [
  {
   "cell_type": "markdown",
   "metadata": {
    "id": "YWoU7h5NClGi"
   },
   "source": [
    "# Histone modifications"
   ]
  },
  {
   "cell_type": "code",
   "execution_count": null,
   "metadata": {
    "id": "4Krri7AXy8UM"
   },
   "outputs": [],
   "source": [
    "%matplotlib inline\n",
    "import matplotlib.pyplot as plt\n",
    "import numpy as np\n",
    "\n",
    "random_seed = 123\n",
    "np.random.seed(random_seed)"
   ]
  },
  {
   "cell_type": "markdown",
   "metadata": {
    "id": "Suim-eikCrc8"
   },
   "source": [
    "[PyCaret](https://pycaret.org/) is an open source, low-code machine learning library in Python that allows you to go from preparing your data to deploying your model within minutes in your choice of notebook environment.\n",
    "\n",
    "It is not available by default, so we first install the library."
   ]
  },
  {
   "cell_type": "code",
   "execution_count": null,
   "metadata": {
    "colab": {
     "base_uri": "https://localhost:8080/"
    },
    "id": "Mv-SfPCv1Nzc",
    "outputId": "3f7817b1-d44b-4d3f-d47a-5ab9248bdada"
   },
   "outputs": [],
   "source": [
    "! pip install pycaret"
   ]
  },
  {
   "cell_type": "markdown",
   "metadata": {
    "id": "q7DJU4Tny8Ua"
   },
   "source": [
    "# 1. The data\n",
    "\n",
    "Histone modifications play an important role in affecting gene regulation. Specific histone modifications at specific locations in or near the gene can alter the expression of genes. Predicting gene expression from histone modification signals is a widely studied research topic.\n",
    "\n",
    "In this competition you will predict gene expression levels (low=0, high=1) based on the presence of histone modifications at specific locations in the gene. You will try to find the model that learns the true underlying model best.\n",
    "\n",
    "For each gene a region of 10.000bp around the transcription start site of the gene is extracted (5000bp upstream and 5000bp downstream). This region is binned in 100 bins of 100bp. For each bin five core histone modification marks are counted [1].\n",
    "\n",
    "The dataset is compiled from the \"E047\" (Primary T CD8+ naive cells from peripheral blood) celltype from Roadmap Epigenomics Mapping Consortium (REMC) database.\n",
    "\n",
    "[1] Kundaje, A. et al. Integrative analysis of 111 reference human epige-\n",
    "nomes. Nature, 518, 317–330, 2015.\n"
   ]
  },
  {
   "cell_type": "markdown",
   "metadata": {
    "id": "9fEaghfDy8Ue"
   },
   "source": [
    "We start by loading the Pandas library and reading the datasets into Pandas DataFrames:"
   ]
  },
  {
   "cell_type": "code",
   "execution_count": null,
   "metadata": {
    "id": "alZpE70qy8Uh"
   },
   "outputs": [],
   "source": [
    "import pandas as pd\n",
    "\n",
    "train = pd.read_csv(\"https://raw.githubusercontent.com/sdgroeve/ML-course-VIB-2020/master/data/data_train.csv\")\n",
    "test = pd.read_csv(\"https://raw.githubusercontent.com/sdgroeve/ML-course-VIB-2020/master/data/data_test.csv\")"
   ]
  },
  {
   "cell_type": "markdown",
   "metadata": {
    "id": "WA6pU9qDy8U0"
   },
   "source": [
    "Let's look at a random sample of the training set:"
   ]
  },
  {
   "cell_type": "code",
   "execution_count": null,
   "metadata": {
    "colab": {
     "base_uri": "https://localhost:8080/",
     "height": 412
    },
    "id": "eBIQBcTTy8U1",
    "outputId": "3fbe67f2-8fb4-4724-9d2c-5e957d6c8140"
   },
   "outputs": [],
   "source": [
    "train.head(10)"
   ]
  },
  {
   "cell_type": "markdown",
   "metadata": {
    "id": "4ooHoxGTgCOA"
   },
   "source": [
    "An alternative visualization for this type of counting data is the heatmap."
   ]
  },
  {
   "cell_type": "code",
   "execution_count": null,
   "metadata": {
    "id": "qiUkeoGGMvTv"
   },
   "outputs": [],
   "source": [
    "train_ids = train.pop(\"GeneId\")"
   ]
  },
  {
   "cell_type": "code",
   "execution_count": null,
   "metadata": {
    "colab": {
     "base_uri": "https://localhost:8080/",
     "height": 255
    },
    "id": "FYlUkermM18o",
    "outputId": "cda8656a-4533-47ce-be11-206470ba3e44"
   },
   "outputs": [],
   "source": [
    "train.head()"
   ]
  },
  {
   "cell_type": "code",
   "execution_count": null,
   "metadata": {
    "colab": {
     "base_uri": "https://localhost:8080/",
     "height": 466
    },
    "id": "1lAK99coCEOR",
    "outputId": "5dfe8cea-28e1-42f5-ea4d-31343aeb4a8e"
   },
   "outputs": [],
   "source": [
    "import seaborn as sns\n",
    "\n",
    "plt.figure(figsize=(30,10))\n",
    "sns.heatmap(train.sample(20))"
   ]
  },
  {
   "cell_type": "markdown",
   "metadata": {
    "id": "FYHeBhf8y8VC"
   },
   "source": [
    "The label for each datapoint is in the `Label` column."
   ]
  },
  {
   "cell_type": "code",
   "execution_count": null,
   "metadata": {
    "id": "qZuSUhLu4L8x"
   },
   "outputs": [],
   "source": [
    "train_labels = train.pop(\"Label\")"
   ]
  },
  {
   "cell_type": "code",
   "execution_count": null,
   "metadata": {
    "colab": {
     "base_uri": "https://localhost:8080/"
    },
    "id": "VejdcRHVOXys",
    "outputId": "442c6dd1-b253-4bee-c4a9-ef8379ee176f"
   },
   "outputs": [],
   "source": [
    "train_labels"
   ]
  },
  {
   "cell_type": "markdown",
   "metadata": {
    "id": "LDJ7eAMch53J"
   },
   "source": [
    "Now `train` contains the feature columns only."
   ]
  },
  {
   "cell_type": "markdown",
   "metadata": {
    "id": "9DHXHPpo4SBG"
   },
   "source": [
    "Let's look at the number datapoints in each class:"
   ]
  },
  {
   "cell_type": "code",
   "execution_count": null,
   "metadata": {
    "colab": {
     "base_uri": "https://localhost:8080/"
    },
    "id": "ynUhI2de6TsU",
    "outputId": "ebe7d8f1-cfc0-4f98-aaa5-f39aa9fff89c"
   },
   "outputs": [],
   "source": [
    "train_labels.value_counts()"
   ]
  },
  {
   "cell_type": "markdown",
   "metadata": {
    "id": "T4eZlOyO6NNF"
   },
   "source": [
    "Let's look at `test`:"
   ]
  },
  {
   "cell_type": "code",
   "execution_count": null,
   "metadata": {
    "colab": {
     "base_uri": "https://localhost:8080/",
     "height": 255
    },
    "id": "MDV9hz5Ay8VD",
    "outputId": "32dbdd85-942f-4f49-f60b-850ff583beda"
   },
   "outputs": [],
   "source": [
    "test.head(5)"
   ]
  },
  {
   "cell_type": "markdown",
   "metadata": {
    "id": "mao3WMV3y8VJ"
   },
   "source": [
    "This is a blind test so the `Label` column is not available in the test set. The test set does contain the `GeneId` column that is needed to send your predictions to the Kaggle website.\n"
   ]
  },
  {
   "cell_type": "code",
   "execution_count": null,
   "metadata": {
    "id": "n4VjbA3ey8VN"
   },
   "outputs": [],
   "source": [
    "test_index_col = test.pop(\"GeneId\")"
   ]
  },
  {
   "cell_type": "markdown",
   "metadata": {
    "id": "WbiH1uzSy8VT"
   },
   "source": [
    "We can compute some decriptive statistics about the training set using the DataFrame `.describe()` function:"
   ]
  },
  {
   "cell_type": "code",
   "execution_count": null,
   "metadata": {
    "colab": {
     "base_uri": "https://localhost:8080/",
     "height": 349
    },
    "id": "sDAIJ23VkVWj",
    "outputId": "fd41b8ac-0df3-4866-84bd-1274734e5e10"
   },
   "outputs": [],
   "source": [
    "train.describe()"
   ]
  },
  {
   "cell_type": "markdown",
   "metadata": {
    "id": "UHM6V5kfEGOU"
   },
   "source": [
    "We can plot these descriptive statistics to get a general overview of the data."
   ]
  },
  {
   "cell_type": "code",
   "execution_count": null,
   "metadata": {
    "colab": {
     "base_uri": "https://localhost:8080/",
     "height": 1000
    },
    "id": "iPg1lbiWy8VV",
    "outputId": "fdbd9c91-fcc5-43b7-bed9-c4ee3fc4cbb1"
   },
   "outputs": [],
   "source": [
    "for col in [\"count\",\"mean\",\"std\",\"min\",\"max\"]:\n",
    "  sns.distplot(pd.DataFrame(train.describe().transpose())[col])\n",
    "  plt.show()"
   ]
  },
  {
   "cell_type": "markdown",
   "metadata": {
    "id": "oltcoOqH3TTD"
   },
   "source": [
    "We can use the Pandas `boxplot()` function to plot the feature values."
   ]
  },
  {
   "cell_type": "code",
   "execution_count": null,
   "metadata": {
    "colab": {
     "base_uri": "https://localhost:8080/",
     "height": 381
    },
    "id": "jjZd6rZs3ijb",
    "outputId": "5f1ebc36-0826-4357-9953-0cb4e2a05ff2"
   },
   "outputs": [],
   "source": [
    "plt.figure(figsize=(22,8))\n",
    "train.boxplot()\n",
    "plt.show()"
   ]
  },
  {
   "cell_type": "markdown",
   "metadata": {
    "id": "QsQjqutNtbP7"
   },
   "source": [
    "Let's plot these for each hisotone mark."
   ]
  },
  {
   "cell_type": "code",
   "execution_count": null,
   "metadata": {
    "colab": {
     "base_uri": "https://localhost:8080/"
    },
    "id": "gv7vShayzrR8",
    "outputId": "df8e8703-0cde-4620-bf10-933a8f195813"
   },
   "outputs": [],
   "source": [
    "marks = {}\n",
    "for m in train.columns:\n",
    "  marks[m.split(\"_\")[0]] = True\n",
    "marks = list(marks.keys())\n",
    "marks"
   ]
  },
  {
   "cell_type": "code",
   "execution_count": null,
   "metadata": {
    "colab": {
     "base_uri": "https://localhost:8080/",
     "height": 1000
    },
    "id": "XIwcZXHX0lO-",
    "outputId": "06907d5e-6c4d-4128-8be8-efb8e9ee9fd8"
   },
   "outputs": [],
   "source": [
    "for mark in marks:\n",
    "  cols = []\n",
    "  for m in train.columns:\n",
    "    if mark in m:\n",
    "      cols.append(m)\n",
    "  plt.figure(figsize=(22,8))    \n",
    "  train[cols].boxplot()\n",
    "  plt.show()"
   ]
  },
  {
   "cell_type": "markdown",
   "metadata": {
    "id": "sqPCOQL9nh8P"
   },
   "source": [
    "# 2. Our first model"
   ]
  },
  {
   "cell_type": "markdown",
   "metadata": {
    "id": "qBlctuXVE5w2"
   },
   "source": [
    "Let's fit a Logistic Regression model. We will first use the very popular (with good reason) [Scikit-learn](https://scikit-learn.org/stable/) library for that.\n",
    "\n",
    "First, we hold out 20% if the training data for independant validation.\n",
    "\n",
    "Next, we fit the modelparameters on the training set and evaluate the fitted model on the validation set."
   ]
  },
  {
   "cell_type": "code",
   "execution_count": null,
   "metadata": {
    "colab": {
     "base_uri": "https://localhost:8080/"
    },
    "id": "17CsBzlJlnVy",
    "outputId": "111d739f-20da-4594-88ca-42f1a0e35a4c"
   },
   "outputs": [],
   "source": [
    "from sklearn.linear_model import LogisticRegression\n",
    "from sklearn.metrics import log_loss, accuracy_score\n",
    "from sklearn.model_selection import train_test_split\n",
    "\n",
    "train_X, val_X, train_y, val_y = train_test_split(train,train_labels,\n",
    "                                                  test_size=.2, random_state=random_seed)\n",
    "\n",
    "cls = LogisticRegression()\n",
    "\n",
    "cls.fit(train_X,train_y)\n",
    "\n",
    "predictions_train = cls.predict(train_X)\n",
    "predictions_val = cls.predict(val_X)\n",
    "\n",
    "print(\"Accuracy: (%f) %f\"%(accuracy_score(predictions_train, train_y),accuracy_score(predictions_val, val_y)))"
   ]
  },
  {
   "cell_type": "code",
   "execution_count": null,
   "metadata": {
    "colab": {
     "base_uri": "https://localhost:8080/"
    },
    "id": "kHUh9aOCYhV8",
    "outputId": "59d5d10f-7798-4117-d46a-68f815f5ef23"
   },
   "outputs": [],
   "source": [
    "cls"
   ]
  },
  {
   "cell_type": "markdown",
   "metadata": {
    "id": "leHLQtnfobKd"
   },
   "source": [
    "# 3. How well does it perform in pratice?"
   ]
  },
  {
   "cell_type": "code",
   "execution_count": null,
   "metadata": {
    "id": "slsToUzBojN3"
   },
   "outputs": [],
   "source": [
    "#code for submission\n",
    "predictions_test = cls.predict_proba(test)\n",
    "\n",
    "to_write = pd.DataFrame()\n",
    "to_write[\"GeneId\"] = test_index_col\n",
    "to_write[\"Label\"] = predictions_test[:,1]\n",
    "to_write.to_csv(\"submission2.csv\",index=False)"
   ]
  },
  {
   "cell_type": "code",
   "execution_count": null,
   "metadata": {
    "colab": {
     "base_uri": "https://localhost:8080/"
    },
    "id": "9-_NuIs_r4NA",
    "outputId": "448c76e9-b5c9-4ee2-dd8c-efea4f3a26a4"
   },
   "outputs": [],
   "source": [
    "predictions_test[:,1]"
   ]
  },
  {
   "cell_type": "markdown",
   "metadata": {
    "id": "jC5nNJuqqjZm"
   },
   "source": [
    "For the Kaggle competition your predictions are not evaluated by accuracy, but by log-loss:\n",
    "\n",
    "$$ - \\frac{1}{N} \\sum_{i=1}^N [y_{i} \\log \\, p_{i} + (1 - y_{i}) \\log \\, (1 - p_{i})],$$\n",
    "\n",
    "where $N$ is the number of datapoints, $y_i$ is the label of datapoint $i$, and $p_i$ is the prediction of the model expressed as a probability.\n",
    "\n",
    "Let's compute the log-loss:"
   ]
  },
  {
   "cell_type": "code",
   "execution_count": null,
   "metadata": {
    "colab": {
     "base_uri": "https://localhost:8080/"
    },
    "id": "u4OHuU0oqtnC",
    "outputId": "a9387679-757b-4451-89b8-37c7f84b3c3a"
   },
   "outputs": [],
   "source": [
    "predictions_train = cls.predict_proba(train_X)[:,1]\n",
    "predictions_val = cls.predict_proba(val_X)[:,1]\n",
    "\n",
    "print(\"Log-loss: (%f) %f\"%(log_loss(train_y,predictions_train),log_loss(val_y,predictions_val)))"
   ]
  },
  {
   "cell_type": "markdown",
   "metadata": {
    "id": "1kDGcmkU2KE5"
   },
   "source": [
    "# 4. Data pre-processing\n",
    "\n",
    "\n"
   ]
  },
  {
   "cell_type": "markdown",
   "metadata": {
    "id": "rNCXrS1x4Tf8"
   },
   "source": [
    "Let's scale all the features to [0,1]:"
   ]
  },
  {
   "cell_type": "code",
   "execution_count": null,
   "metadata": {
    "colab": {
     "base_uri": "https://localhost:8080/",
     "height": 255
    },
    "id": "nGkTWm904gt9",
    "outputId": "7538ea75-4718-4aa2-ee22-a933c81e0b14"
   },
   "outputs": [],
   "source": [
    "from sklearn import preprocessing\n",
    "\n",
    "scaler_minmax = preprocessing.MinMaxScaler()\n",
    "scaler_minmax.fit(train)\n",
    "train_norm = pd.DataFrame(scaler_minmax.transform(train),columns=train.columns)\n",
    "train_norm.head()"
   ]
  },
  {
   "cell_type": "code",
   "execution_count": null,
   "metadata": {
    "colab": {
     "base_uri": "https://localhost:8080/",
     "height": 1000
    },
    "id": "KYY3fLMq5RfO",
    "outputId": "c2d0252a-7921-46f6-e130-e0fb076398cf"
   },
   "outputs": [],
   "source": [
    "for mark in marks:\n",
    "  cols = []\n",
    "  for m in train_norm.columns:\n",
    "    if mark in m:\n",
    "      cols.append(m)\n",
    "  plt.figure(figsize=(22,8))    \n",
    "  train_norm[cols].boxplot()\n",
    "  plt.show()"
   ]
  },
  {
   "cell_type": "markdown",
   "metadata": {
    "id": "NnhndU6_HSNc"
   },
   "source": [
    "Now, did we improve the predictions?"
   ]
  },
  {
   "cell_type": "code",
   "execution_count": null,
   "metadata": {
    "colab": {
     "base_uri": "https://localhost:8080/"
    },
    "id": "Q10qEG_4prt4",
    "outputId": "099d5353-8585-407b-ce35-0268ec4a9c77"
   },
   "outputs": [],
   "source": [
    "train_X, val_X, train_y, val_y = train_test_split(train_norm,train_labels,\n",
    "                                                  test_size=.2, random_state=random_seed)\n",
    "\n",
    "cls.fit(train_X,train_y)\n",
    "\n",
    "predictions_train = cls.predict(train_X)\n",
    "predictions_val = cls.predict(val_X)\n",
    "\n",
    "print(\"Accuracy: (%f) %f\"%(accuracy_score(predictions_train, train_y),accuracy_score(predictions_val, val_y)))\n",
    "\n",
    "predictions_train_prob = cls.predict_proba(train_X)\n",
    "predictions_val_prob = cls.predict_proba(val_X)\n",
    "\n",
    "print(\"Log-loss: (%f) %f\"%(log_loss(train_y,predictions_train_prob[:,1]),log_loss(val_y,predictions_val_prob[:,1])))"
   ]
  },
  {
   "cell_type": "markdown",
   "metadata": {
    "id": "O8Se-pFmtM8h"
   },
   "source": [
    "# 5. Hyperparameter tuning"
   ]
  },
  {
   "cell_type": "markdown",
   "metadata": {
    "id": "p_6D75_dH56P"
   },
   "source": [
    "From now on we will use the PyCaret library for fitting models. It provides many useful functions that make Machine Learning fun.\n",
    "\n",
    "To use PyCaret we first need to setup an environment that prepares the data for fitting and validation."
   ]
  },
  {
   "cell_type": "code",
   "execution_count": null,
   "metadata": {
    "colab": {
     "base_uri": "https://localhost:8080/",
     "height": 1000,
     "referenced_widgets": [
      "98acc664be9741bab61c6f9fd432eaa7",
      "a713bfcc7a0d42ca8c95d9af974ed82c",
      "0140e684a650451b81d8af456818862a"
     ]
    },
    "id": "PANvqYPqtJKL",
    "outputId": "95c79d30-eccb-49aa-80e0-d18fb4e64004"
   },
   "outputs": [],
   "source": [
    "from pycaret.classification import *\n",
    "\n",
    "train_norm[\"Label\"] = train_labels\n",
    "setup(data=train_norm,target=\"Label\",numeric_features=list(train.columns)[:-1], train_size=0.8, silent=True)"
   ]
  },
  {
   "cell_type": "markdown",
   "metadata": {
    "id": "CuDdFLT6I4Fl"
   },
   "source": [
    "By default, PyCaret does not compute the log-loss metric. So, we add it."
   ]
  },
  {
   "cell_type": "code",
   "execution_count": null,
   "metadata": {
    "colab": {
     "base_uri": "https://localhost:8080/"
    },
    "id": "yU5WTl3YxDdv",
    "outputId": "9476b939-f2dd-43ee-fc02-b4e9817aa54b"
   },
   "outputs": [],
   "source": [
    "from sklearn.metrics import log_loss\n",
    "\n",
    "add_metric('logloss', 'LogLoss', log_loss, greater_is_better=False, target=\"pred_proba\")"
   ]
  },
  {
   "cell_type": "markdown",
   "metadata": {
    "id": "iddjK6eGJWK5"
   },
   "source": [
    "Next, we fit a model using `create_model` that is similar to `fit()` in Scikit-learn, except that it fits and evaluates (CV) on the 80% fitting part of the training set only. The output of this function is a score grid with CV scores by fold."
   ]
  },
  {
   "cell_type": "code",
   "execution_count": null,
   "metadata": {
    "colab": {
     "base_uri": "https://localhost:8080/",
     "height": 426,
     "referenced_widgets": [
      "332ce6266a664d5193e6f20cc23a6ab2",
      "61b292a8f2ab4b1aac8a096c1379a4d9",
      "dd79995ab4834047ac480e9a170d8ee7"
     ]
    },
    "id": "wZBb1hnttNgi",
    "outputId": "4608eb60-0b42-4daa-8ca8-688f2910617b"
   },
   "outputs": [],
   "source": [
    "lr = create_model(\"lr\")"
   ]
  },
  {
   "cell_type": "markdown",
   "metadata": {
    "id": "28zxsL3DKbc1"
   },
   "source": [
    "We just fitted a Logistic Regression model with a default value of 1.0 for the regularization parameter, as you can see below."
   ]
  },
  {
   "cell_type": "code",
   "execution_count": null,
   "metadata": {
    "colab": {
     "base_uri": "https://localhost:8080/"
    },
    "id": "4r0Jur3jLAFQ",
    "outputId": "be32b2d7-7898-41ce-a934-0f345feb048a"
   },
   "outputs": [],
   "source": [
    "lr"
   ]
  },
  {
   "cell_type": "code",
   "execution_count": null,
   "metadata": {
    "colab": {
     "base_uri": "https://localhost:8080/",
     "height": 81
    },
    "id": "m_i2VnnBOMRN",
    "outputId": "9889fad8-2778-4e73-98ae-0b8a93ac9a3d"
   },
   "outputs": [],
   "source": [
    "result = predict_model(lr)"
   ]
  },
  {
   "cell_type": "markdown",
   "metadata": {
    "id": "YsqyNod5NGCf"
   },
   "source": [
    "It is now easy to optimize (tune) this hyperparameter."
   ]
  },
  {
   "cell_type": "code",
   "execution_count": null,
   "metadata": {
    "colab": {
     "base_uri": "https://localhost:8080/"
    },
    "id": "H3tzw_a7EHbi",
    "outputId": "d5ec4884-2ce2-443e-d30d-1afe0e07b75a"
   },
   "outputs": [],
   "source": [
    "np.linspace(0.0001,10,1000)"
   ]
  },
  {
   "cell_type": "code",
   "execution_count": null,
   "metadata": {
    "colab": {
     "base_uri": "https://localhost:8080/",
     "height": 269,
     "referenced_widgets": [
      "e3ea5aea198b494c8a3e646bdefdc7f1",
      "734ec7cb01374357b77bd1c0b88d69c3",
      "d441bfda8dd04f5dbe18c897d816d558"
     ]
    },
    "id": "M2YCwnXxwBPB",
    "outputId": "a1f6975a-9096-418c-ba0d-cff9fccfc84f"
   },
   "outputs": [],
   "source": [
    "tune_grid = {\n",
    "    \"C\": np.linspace(0.0001,10,1000)\n",
    "    }\n",
    "\n",
    "tuned_lr = tune_model(lr,tuner_verbose=2, n_iter=10, fold=5, custom_grid=tune_grid)"
   ]
  },
  {
   "cell_type": "markdown",
   "metadata": {
    "id": "fm3ivp1BNe6B"
   },
   "source": [
    "`tune_model()` applies an random search on the `tune_grid` where each point in the seach space is evaluated using cross-validation:\n",
    "\n",
    "<br/>\n",
    "<br/>\n",
    "<img src=\"https://scikit-learn.org/stable/_images/grid_search_cross_validation.png\"/>\n",
    "<br/>\n",
    "<br/>\n",
    "\n",
    "\n",
    "This is the 'optimal' value for the regularization hyperparameter:"
   ]
  },
  {
   "cell_type": "code",
   "execution_count": null,
   "metadata": {
    "colab": {
     "base_uri": "https://localhost:8080/"
    },
    "id": "Vammb7DnNrRM",
    "outputId": "660f132e-ad53-4aab-a410-84dca6aa73b8"
   },
   "outputs": [],
   "source": [
    "tuned_lr"
   ]
  },
  {
   "cell_type": "markdown",
   "metadata": {
    "id": "8BxLhpxNw56f"
   },
   "source": [
    "We can now again test this model on the validation set."
   ]
  },
  {
   "cell_type": "code",
   "execution_count": null,
   "metadata": {
    "colab": {
     "base_uri": "https://localhost:8080/",
     "height": 81
    },
    "id": "F-lj0b5WSmng",
    "outputId": "d89bd2e3-06c8-4a36-e25e-9d34d182964b"
   },
   "outputs": [],
   "source": [
    "result = predict_model(tuned_lr)"
   ]
  },
  {
   "cell_type": "markdown",
   "metadata": {
    "id": "8mbVNvabxB2A"
   },
   "source": [
    "PyCaret offers some very useful tools for model validation."
   ]
  },
  {
   "cell_type": "code",
   "execution_count": null,
   "metadata": {
    "colab": {
     "base_uri": "https://localhost:8080/",
     "height": 637,
     "referenced_widgets": [
      "dae255334fed4230a113d356e8f7fe09",
      "53153af0b1ee401fb2b2d9c3eff9ad8c",
      "78c3ac5a60964002999c953cc2818ec3",
      "7fcb321dd073447eb31185c18dafc3e7",
      "89938459fb2b4c15add44f023652637c",
      "42f4ea0cb21f4fdcb6b58793031bc4f5",
      "c6ee32b52e4c404ba07bcd4ff5d51325",
      "c964e15faf93471f9ac1e854e510e745",
      "72f324d54efe447badba558c1413f895",
      "0ffa5a4ea37045a1b9978528f2e95347"
     ]
    },
    "id": "A_z7EAGbwGPp",
    "outputId": "3a85e4fd-1f2d-41b2-8f4b-bd7103e92950"
   },
   "outputs": [],
   "source": [
    "evaluate_model(tuned_lr)"
   ]
  },
  {
   "cell_type": "markdown",
   "metadata": {
    "id": "Oh2FWcI2xRVZ"
   },
   "source": [
    "Finally, we can fit the optimal model on the full training set. "
   ]
  },
  {
   "cell_type": "code",
   "execution_count": null,
   "metadata": {
    "id": "8-7I_MDU3kz1"
   },
   "outputs": [],
   "source": [
    "final_lr = finalize_model(tuned_lr)"
   ]
  },
  {
   "cell_type": "markdown",
   "metadata": {
    "id": "vI4quQa2KOM0"
   },
   "source": [
    "To obtain insight into how the model uses each of the features we can look at the values of the modelparameters."
   ]
  },
  {
   "cell_type": "code",
   "execution_count": null,
   "metadata": {
    "colab": {
     "base_uri": "https://localhost:8080/",
     "height": 461
    },
    "id": "VPAjSWmeIDnd",
    "outputId": "186c9922-e007-41d5-ca8e-a1aff5e4b255"
   },
   "outputs": [],
   "source": [
    "tmp = []\n",
    "for feature, modelparameter in zip(train.columns,final_lr.coef_[0]):\n",
    "  tmp.append([feature,np.abs(modelparameter)])\n",
    "\n",
    "tmp = pd.DataFrame(tmp,columns=[\"feature\",\"modelparameter\"])\n",
    "\n",
    "tmp.sort_values(\"modelparameter\",ascending=False)"
   ]
  },
  {
   "cell_type": "markdown",
   "metadata": {
    "id": "WGk2jFvPxdBl"
   },
   "source": [
    "And the we can make predictions for the blind test set. PyCaret adds two columns to the test set: Label (the predicted class) and Score (the probability of class 1)."
   ]
  },
  {
   "cell_type": "code",
   "execution_count": null,
   "metadata": {
    "id": "I7eLcj1k-U9m"
   },
   "outputs": [],
   "source": [
    "test_norm = pd.DataFrame(scaler_minmax.transform(test),columns=test.columns)\n",
    "predictions_test = final_lr.predict_proba(test_norm)"
   ]
  },
  {
   "cell_type": "code",
   "execution_count": null,
   "metadata": {
    "id": "ZPLJOB5O-20n"
   },
   "outputs": [],
   "source": [
    "to_write = pd.DataFrame()\n",
    "to_write[\"GeneId\"] = test_index_col\n",
    "to_write[\"Label\"] = predictions_test\n",
    "to_write.to_csv(\"submission2.csv\",index=False)"
   ]
  },
  {
   "cell_type": "code",
   "execution_count": null,
   "metadata": {
    "id": "mcv7TFaHVpDk"
   },
   "outputs": [],
   "source": []
  }
 ],
 "metadata": {
  "colab": {
   "name": "Histone_marks_lr.ipynb",
   "provenance": []
  },
  "kernelspec": {
   "display_name": "Python 3",
   "language": "python",
   "name": "python3"
  },
  "language_info": {
   "codemirror_mode": {
    "name": "ipython",
    "version": 3
   },
   "file_extension": ".py",
   "mimetype": "text/x-python",
   "name": "python",
   "nbconvert_exporter": "python",
   "pygments_lexer": "ipython3",
   "version": "3.8.3"
  },
  "widgets": {
   "application/vnd.jupyter.widget-state+json": {
    "0140e684a650451b81d8af456818862a": {
     "model_module": "@jupyter-widgets/base",
     "model_module_version": "1.2.0",
     "model_name": "LayoutModel",
     "state": {
      "_model_module": "@jupyter-widgets/base",
      "_model_module_version": "1.2.0",
      "_model_name": "LayoutModel",
      "_view_count": null,
      "_view_module": "@jupyter-widgets/base",
      "_view_module_version": "1.2.0",
      "_view_name": "LayoutView",
      "align_content": null,
      "align_items": null,
      "align_self": null,
      "border": null,
      "bottom": null,
      "display": null,
      "flex": null,
      "flex_flow": null,
      "grid_area": null,
      "grid_auto_columns": null,
      "grid_auto_flow": null,
      "grid_auto_rows": null,
      "grid_column": null,
      "grid_gap": null,
      "grid_row": null,
      "grid_template_areas": null,
      "grid_template_columns": null,
      "grid_template_rows": null,
      "height": null,
      "justify_content": null,
      "justify_items": null,
      "left": null,
      "margin": null,
      "max_height": null,
      "max_width": null,
      "min_height": null,
      "min_width": null,
      "object_fit": null,
      "object_position": null,
      "order": null,
      "overflow": null,
      "overflow_x": null,
      "overflow_y": null,
      "padding": null,
      "right": null,
      "top": null,
      "visibility": null,
      "width": null
     }
    },
    "0ffa5a4ea37045a1b9978528f2e95347": {
     "model_module": "@jupyter-widgets/base",
     "model_module_version": "1.2.0",
     "model_name": "LayoutModel",
     "state": {
      "_model_module": "@jupyter-widgets/base",
      "_model_module_version": "1.2.0",
      "_model_name": "LayoutModel",
      "_view_count": null,
      "_view_module": "@jupyter-widgets/base",
      "_view_module_version": "1.2.0",
      "_view_name": "LayoutView",
      "align_content": null,
      "align_items": null,
      "align_self": null,
      "border": null,
      "bottom": null,
      "display": null,
      "flex": null,
      "flex_flow": null,
      "grid_area": null,
      "grid_auto_columns": null,
      "grid_auto_flow": null,
      "grid_auto_rows": null,
      "grid_column": null,
      "grid_gap": null,
      "grid_row": null,
      "grid_template_areas": null,
      "grid_template_columns": null,
      "grid_template_rows": null,
      "height": null,
      "justify_content": null,
      "justify_items": null,
      "left": null,
      "margin": null,
      "max_height": null,
      "max_width": null,
      "min_height": null,
      "min_width": null,
      "object_fit": null,
      "object_position": null,
      "order": null,
      "overflow": null,
      "overflow_x": null,
      "overflow_y": null,
      "padding": null,
      "right": null,
      "top": null,
      "visibility": null,
      "width": null
     }
    },
    "332ce6266a664d5193e6f20cc23a6ab2": {
     "model_module": "@jupyter-widgets/controls",
     "model_module_version": "1.5.0",
     "model_name": "IntProgressModel",
     "state": {
      "_dom_classes": [],
      "_model_module": "@jupyter-widgets/controls",
      "_model_module_version": "1.5.0",
      "_model_name": "IntProgressModel",
      "_view_count": null,
      "_view_module": "@jupyter-widgets/controls",
      "_view_module_version": "1.5.0",
      "_view_name": "ProgressView",
      "bar_style": "",
      "description": "Processing: ",
      "description_tooltip": null,
      "layout": "IPY_MODEL_dd79995ab4834047ac480e9a170d8ee7",
      "max": 4,
      "min": 0,
      "orientation": "horizontal",
      "style": "IPY_MODEL_61b292a8f2ab4b1aac8a096c1379a4d9",
      "value": 4
     }
    },
    "42f4ea0cb21f4fdcb6b58793031bc4f5": {
     "model_module": "@jupyter-widgets/base",
     "model_module_version": "1.2.0",
     "model_name": "LayoutModel",
     "state": {
      "_model_module": "@jupyter-widgets/base",
      "_model_module_version": "1.2.0",
      "_model_name": "LayoutModel",
      "_view_count": null,
      "_view_module": "@jupyter-widgets/base",
      "_view_module_version": "1.2.0",
      "_view_name": "LayoutView",
      "align_content": null,
      "align_items": null,
      "align_self": null,
      "border": null,
      "bottom": null,
      "display": null,
      "flex": null,
      "flex_flow": null,
      "grid_area": null,
      "grid_auto_columns": null,
      "grid_auto_flow": null,
      "grid_auto_rows": null,
      "grid_column": null,
      "grid_gap": null,
      "grid_row": null,
      "grid_template_areas": null,
      "grid_template_columns": null,
      "grid_template_rows": null,
      "height": null,
      "justify_content": null,
      "justify_items": null,
      "left": null,
      "margin": null,
      "max_height": null,
      "max_width": null,
      "min_height": null,
      "min_width": null,
      "object_fit": null,
      "object_position": null,
      "order": null,
      "overflow": null,
      "overflow_x": null,
      "overflow_y": null,
      "padding": null,
      "right": null,
      "top": null,
      "visibility": null,
      "width": null
     }
    },
    "53153af0b1ee401fb2b2d9c3eff9ad8c": {
     "model_module": "@jupyter-widgets/base",
     "model_module_version": "1.2.0",
     "model_name": "LayoutModel",
     "state": {
      "_model_module": "@jupyter-widgets/base",
      "_model_module_version": "1.2.0",
      "_model_name": "LayoutModel",
      "_view_count": null,
      "_view_module": "@jupyter-widgets/base",
      "_view_module_version": "1.2.0",
      "_view_name": "LayoutView",
      "align_content": null,
      "align_items": null,
      "align_self": null,
      "border": null,
      "bottom": null,
      "display": null,
      "flex": null,
      "flex_flow": null,
      "grid_area": null,
      "grid_auto_columns": null,
      "grid_auto_flow": null,
      "grid_auto_rows": null,
      "grid_column": null,
      "grid_gap": null,
      "grid_row": null,
      "grid_template_areas": null,
      "grid_template_columns": null,
      "grid_template_rows": null,
      "height": null,
      "justify_content": null,
      "justify_items": null,
      "left": null,
      "margin": null,
      "max_height": null,
      "max_width": null,
      "min_height": null,
      "min_width": null,
      "object_fit": null,
      "object_position": null,
      "order": null,
      "overflow": null,
      "overflow_x": null,
      "overflow_y": null,
      "padding": null,
      "right": null,
      "top": null,
      "visibility": null,
      "width": null
     }
    },
    "61b292a8f2ab4b1aac8a096c1379a4d9": {
     "model_module": "@jupyter-widgets/controls",
     "model_module_version": "1.5.0",
     "model_name": "ProgressStyleModel",
     "state": {
      "_model_module": "@jupyter-widgets/controls",
      "_model_module_version": "1.5.0",
      "_model_name": "ProgressStyleModel",
      "_view_count": null,
      "_view_module": "@jupyter-widgets/base",
      "_view_module_version": "1.2.0",
      "_view_name": "StyleView",
      "bar_color": null,
      "description_width": ""
     }
    },
    "72f324d54efe447badba558c1413f895": {
     "model_module": "@jupyter-widgets/controls",
     "model_module_version": "1.5.0",
     "model_name": "ProgressStyleModel",
     "state": {
      "_model_module": "@jupyter-widgets/controls",
      "_model_module_version": "1.5.0",
      "_model_name": "ProgressStyleModel",
      "_view_count": null,
      "_view_module": "@jupyter-widgets/base",
      "_view_module_version": "1.2.0",
      "_view_name": "StyleView",
      "bar_color": null,
      "description_width": ""
     }
    },
    "734ec7cb01374357b77bd1c0b88d69c3": {
     "model_module": "@jupyter-widgets/controls",
     "model_module_version": "1.5.0",
     "model_name": "ProgressStyleModel",
     "state": {
      "_model_module": "@jupyter-widgets/controls",
      "_model_module_version": "1.5.0",
      "_model_name": "ProgressStyleModel",
      "_view_count": null,
      "_view_module": "@jupyter-widgets/base",
      "_view_module_version": "1.2.0",
      "_view_name": "StyleView",
      "bar_color": null,
      "description_width": ""
     }
    },
    "78c3ac5a60964002999c953cc2818ec3": {
     "model_module": "@jupyter-widgets/controls",
     "model_module_version": "1.5.0",
     "model_name": "ToggleButtonsModel",
     "state": {
      "_dom_classes": [],
      "_model_module": "@jupyter-widgets/controls",
      "_model_module_version": "1.5.0",
      "_model_name": "ToggleButtonsModel",
      "_options_labels": [
       "Hyperparameters",
       "AUC",
       "Confusion Matrix",
       "Threshold",
       "Precision Recall",
       "Prediction Error",
       "Class Report",
       "Feature Selection",
       "Learning Curve",
       "Manifold Learning",
       "Calibration Curve",
       "Validation Curve",
       "Dimensions",
       "Feature Importance",
       "Feature Importance (All)",
       "Decision Boundary",
       "Lift Chart",
       "Gain Chart",
       "Decision Tree"
      ],
      "_view_count": null,
      "_view_module": "@jupyter-widgets/controls",
      "_view_module_version": "1.5.0",
      "_view_name": "ToggleButtonsView",
      "button_style": "",
      "description": "Plot Type:",
      "description_tooltip": null,
      "disabled": false,
      "icons": [
       ""
      ],
      "index": 0,
      "layout": "IPY_MODEL_42f4ea0cb21f4fdcb6b58793031bc4f5",
      "style": "IPY_MODEL_89938459fb2b4c15add44f023652637c",
      "tooltips": []
     }
    },
    "7fcb321dd073447eb31185c18dafc3e7": {
     "model_module": "@jupyter-widgets/output",
     "model_module_version": "1.0.0",
     "model_name": "OutputModel",
     "state": {
      "_dom_classes": [],
      "_model_module": "@jupyter-widgets/output",
      "_model_module_version": "1.0.0",
      "_model_name": "OutputModel",
      "_view_count": null,
      "_view_module": "@jupyter-widgets/output",
      "_view_module_version": "1.0.0",
      "_view_name": "OutputView",
      "layout": "IPY_MODEL_c6ee32b52e4c404ba07bcd4ff5d51325",
      "msg_id": "",
      "outputs": [
       {
        "data": {
         "text/html": "<div>\n<style scoped>\n    .dataframe tbody tr th:only-of-type {\n        vertical-align: middle;\n    }\n\n    .dataframe tbody tr th {\n        vertical-align: top;\n    }\n\n    .dataframe thead th {\n        text-align: right;\n    }\n</style>\n<table border=\"1\" class=\"dataframe\">\n  <thead>\n    <tr style=\"text-align: right;\">\n      <th></th>\n      <th>Parameters</th>\n    </tr>\n  </thead>\n  <tbody>\n    <tr>\n      <th>C</th>\n      <td>0.0901891891891892</td>\n    </tr>\n    <tr>\n      <th>class_weight</th>\n      <td>None</td>\n    </tr>\n    <tr>\n      <th>dual</th>\n      <td>False</td>\n    </tr>\n    <tr>\n      <th>fit_intercept</th>\n      <td>True</td>\n    </tr>\n    <tr>\n      <th>intercept_scaling</th>\n      <td>1</td>\n    </tr>\n    <tr>\n      <th>l1_ratio</th>\n      <td>None</td>\n    </tr>\n    <tr>\n      <th>max_iter</th>\n      <td>1000</td>\n    </tr>\n    <tr>\n      <th>multi_class</th>\n      <td>auto</td>\n    </tr>\n    <tr>\n      <th>n_jobs</th>\n      <td>None</td>\n    </tr>\n    <tr>\n      <th>penalty</th>\n      <td>l2</td>\n    </tr>\n    <tr>\n      <th>random_state</th>\n      <td>6809</td>\n    </tr>\n    <tr>\n      <th>solver</th>\n      <td>lbfgs</td>\n    </tr>\n    <tr>\n      <th>tol</th>\n      <td>0.0001</td>\n    </tr>\n    <tr>\n      <th>verbose</th>\n      <td>0</td>\n    </tr>\n    <tr>\n      <th>warm_start</th>\n      <td>False</td>\n    </tr>\n  </tbody>\n</table>\n</div>",
         "text/plain": "                           Parameters\nC                  0.0901891891891892\nclass_weight                     None\ndual                            False\nfit_intercept                    True\nintercept_scaling                   1\nl1_ratio                         None\nmax_iter                         1000\nmulti_class                      auto\nn_jobs                           None\npenalty                            l2\nrandom_state                     6809\nsolver                          lbfgs\ntol                            0.0001\nverbose                             0\nwarm_start                      False"
        },
        "metadata": {},
        "output_type": "display_data"
       }
      ]
     }
    },
    "89938459fb2b4c15add44f023652637c": {
     "model_module": "@jupyter-widgets/controls",
     "model_module_version": "1.5.0",
     "model_name": "ToggleButtonsStyleModel",
     "state": {
      "_model_module": "@jupyter-widgets/controls",
      "_model_module_version": "1.5.0",
      "_model_name": "ToggleButtonsStyleModel",
      "_view_count": null,
      "_view_module": "@jupyter-widgets/base",
      "_view_module_version": "1.2.0",
      "_view_name": "StyleView",
      "button_width": "",
      "description_width": "",
      "font_weight": ""
     }
    },
    "98acc664be9741bab61c6f9fd432eaa7": {
     "model_module": "@jupyter-widgets/controls",
     "model_module_version": "1.5.0",
     "model_name": "IntProgressModel",
     "state": {
      "_dom_classes": [],
      "_model_module": "@jupyter-widgets/controls",
      "_model_module_version": "1.5.0",
      "_model_name": "IntProgressModel",
      "_view_count": null,
      "_view_module": "@jupyter-widgets/controls",
      "_view_module_version": "1.5.0",
      "_view_name": "ProgressView",
      "bar_style": "",
      "description": "Processing: ",
      "description_tooltip": null,
      "layout": "IPY_MODEL_0140e684a650451b81d8af456818862a",
      "max": 3,
      "min": 0,
      "orientation": "horizontal",
      "style": "IPY_MODEL_a713bfcc7a0d42ca8c95d9af974ed82c",
      "value": 3
     }
    },
    "a713bfcc7a0d42ca8c95d9af974ed82c": {
     "model_module": "@jupyter-widgets/controls",
     "model_module_version": "1.5.0",
     "model_name": "ProgressStyleModel",
     "state": {
      "_model_module": "@jupyter-widgets/controls",
      "_model_module_version": "1.5.0",
      "_model_name": "ProgressStyleModel",
      "_view_count": null,
      "_view_module": "@jupyter-widgets/base",
      "_view_module_version": "1.2.0",
      "_view_name": "StyleView",
      "bar_color": null,
      "description_width": ""
     }
    },
    "c6ee32b52e4c404ba07bcd4ff5d51325": {
     "model_module": "@jupyter-widgets/base",
     "model_module_version": "1.2.0",
     "model_name": "LayoutModel",
     "state": {
      "_model_module": "@jupyter-widgets/base",
      "_model_module_version": "1.2.0",
      "_model_name": "LayoutModel",
      "_view_count": null,
      "_view_module": "@jupyter-widgets/base",
      "_view_module_version": "1.2.0",
      "_view_name": "LayoutView",
      "align_content": null,
      "align_items": null,
      "align_self": null,
      "border": null,
      "bottom": null,
      "display": null,
      "flex": null,
      "flex_flow": null,
      "grid_area": null,
      "grid_auto_columns": null,
      "grid_auto_flow": null,
      "grid_auto_rows": null,
      "grid_column": null,
      "grid_gap": null,
      "grid_row": null,
      "grid_template_areas": null,
      "grid_template_columns": null,
      "grid_template_rows": null,
      "height": null,
      "justify_content": null,
      "justify_items": null,
      "left": null,
      "margin": null,
      "max_height": null,
      "max_width": null,
      "min_height": null,
      "min_width": null,
      "object_fit": null,
      "object_position": null,
      "order": null,
      "overflow": null,
      "overflow_x": null,
      "overflow_y": null,
      "padding": null,
      "right": null,
      "top": null,
      "visibility": null,
      "width": null
     }
    },
    "c964e15faf93471f9ac1e854e510e745": {
     "model_module": "@jupyter-widgets/controls",
     "model_module_version": "1.5.0",
     "model_name": "IntProgressModel",
     "state": {
      "_dom_classes": [],
      "_model_module": "@jupyter-widgets/controls",
      "_model_module_version": "1.5.0",
      "_model_name": "IntProgressModel",
      "_view_count": null,
      "_view_module": "@jupyter-widgets/controls",
      "_view_module_version": "1.5.0",
      "_view_name": "ProgressView",
      "bar_style": "",
      "description": "Processing: ",
      "description_tooltip": null,
      "layout": "IPY_MODEL_0ffa5a4ea37045a1b9978528f2e95347",
      "max": 5,
      "min": 0,
      "orientation": "horizontal",
      "style": "IPY_MODEL_72f324d54efe447badba558c1413f895",
      "value": 3
     }
    },
    "d441bfda8dd04f5dbe18c897d816d558": {
     "model_module": "@jupyter-widgets/base",
     "model_module_version": "1.2.0",
     "model_name": "LayoutModel",
     "state": {
      "_model_module": "@jupyter-widgets/base",
      "_model_module_version": "1.2.0",
      "_model_name": "LayoutModel",
      "_view_count": null,
      "_view_module": "@jupyter-widgets/base",
      "_view_module_version": "1.2.0",
      "_view_name": "LayoutView",
      "align_content": null,
      "align_items": null,
      "align_self": null,
      "border": null,
      "bottom": null,
      "display": null,
      "flex": null,
      "flex_flow": null,
      "grid_area": null,
      "grid_auto_columns": null,
      "grid_auto_flow": null,
      "grid_auto_rows": null,
      "grid_column": null,
      "grid_gap": null,
      "grid_row": null,
      "grid_template_areas": null,
      "grid_template_columns": null,
      "grid_template_rows": null,
      "height": null,
      "justify_content": null,
      "justify_items": null,
      "left": null,
      "margin": null,
      "max_height": null,
      "max_width": null,
      "min_height": null,
      "min_width": null,
      "object_fit": null,
      "object_position": null,
      "order": null,
      "overflow": null,
      "overflow_x": null,
      "overflow_y": null,
      "padding": null,
      "right": null,
      "top": null,
      "visibility": null,
      "width": null
     }
    },
    "dae255334fed4230a113d356e8f7fe09": {
     "model_module": "@jupyter-widgets/controls",
     "model_module_version": "1.5.0",
     "model_name": "VBoxModel",
     "state": {
      "_dom_classes": [
       "widget-interact"
      ],
      "_model_module": "@jupyter-widgets/controls",
      "_model_module_version": "1.5.0",
      "_model_name": "VBoxModel",
      "_view_count": null,
      "_view_module": "@jupyter-widgets/controls",
      "_view_module_version": "1.5.0",
      "_view_name": "VBoxView",
      "box_style": "",
      "children": [
       "IPY_MODEL_78c3ac5a60964002999c953cc2818ec3",
       "IPY_MODEL_7fcb321dd073447eb31185c18dafc3e7"
      ],
      "layout": "IPY_MODEL_53153af0b1ee401fb2b2d9c3eff9ad8c"
     }
    },
    "dd79995ab4834047ac480e9a170d8ee7": {
     "model_module": "@jupyter-widgets/base",
     "model_module_version": "1.2.0",
     "model_name": "LayoutModel",
     "state": {
      "_model_module": "@jupyter-widgets/base",
      "_model_module_version": "1.2.0",
      "_model_name": "LayoutModel",
      "_view_count": null,
      "_view_module": "@jupyter-widgets/base",
      "_view_module_version": "1.2.0",
      "_view_name": "LayoutView",
      "align_content": null,
      "align_items": null,
      "align_self": null,
      "border": null,
      "bottom": null,
      "display": null,
      "flex": null,
      "flex_flow": null,
      "grid_area": null,
      "grid_auto_columns": null,
      "grid_auto_flow": null,
      "grid_auto_rows": null,
      "grid_column": null,
      "grid_gap": null,
      "grid_row": null,
      "grid_template_areas": null,
      "grid_template_columns": null,
      "grid_template_rows": null,
      "height": null,
      "justify_content": null,
      "justify_items": null,
      "left": null,
      "margin": null,
      "max_height": null,
      "max_width": null,
      "min_height": null,
      "min_width": null,
      "object_fit": null,
      "object_position": null,
      "order": null,
      "overflow": null,
      "overflow_x": null,
      "overflow_y": null,
      "padding": null,
      "right": null,
      "top": null,
      "visibility": null,
      "width": null
     }
    },
    "e3ea5aea198b494c8a3e646bdefdc7f1": {
     "model_module": "@jupyter-widgets/controls",
     "model_module_version": "1.5.0",
     "model_name": "IntProgressModel",
     "state": {
      "_dom_classes": [],
      "_model_module": "@jupyter-widgets/controls",
      "_model_module_version": "1.5.0",
      "_model_name": "IntProgressModel",
      "_view_count": null,
      "_view_module": "@jupyter-widgets/controls",
      "_view_module_version": "1.5.0",
      "_view_name": "ProgressView",
      "bar_style": "",
      "description": "Processing: ",
      "description_tooltip": null,
      "layout": "IPY_MODEL_d441bfda8dd04f5dbe18c897d816d558",
      "max": 7,
      "min": 0,
      "orientation": "horizontal",
      "style": "IPY_MODEL_734ec7cb01374357b77bd1c0b88d69c3",
      "value": 7
     }
    }
   }
  }
 },
 "nbformat": 4,
 "nbformat_minor": 1
}
