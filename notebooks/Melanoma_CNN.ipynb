{
 "cells": [
  {
   "cell_type": "markdown",
   "metadata": {},
   "source": [
    "<a target=\"_blank\" href=\"https://colab.research.google.com/github/compomics/ML-course-VIB-2024/blob/master/notebooks/Melanoma_CNN.ipynb\">\n",
    "  <img src=\"https://colab.research.google.com/assets/colab-badge.svg\" alt=\"Open In Colab\"/>\n",
    "</a>"
   ]
  },
  {
   "cell_type": "markdown",
   "metadata": {
    "colab_type": "text",
    "id": "TBFXQGKYUc4X"
   },
   "source": [
    "*Disclaimer: this notebook extends the analysis of the [Flowers Image Classification notebook](https://www.tensorflow.org/tutorials/images/classification) to Malanoma images.*"
   ]
  },
  {
   "cell_type": "markdown",
   "metadata": {
    "colab_type": "text",
    "id": "FE7KNzPPVrVV"
   },
   "source": [
    "# Skin lesion image classification"
   ]
  },
  {
   "cell_type": "markdown",
   "metadata": {
    "colab_type": "text",
    "id": "2RDZ0jwOCTM-"
   },
   "source": [
    "The data will be downloaded from the [\n",
    "ISIC 2018: Skin Lesion Analysis Towards Melanoma Detection challenge\n",
    "](https://challenge2018.isic-archive.com/) [1].\n",
    "\n",
    "The goal of this recurring challenge is to help participants develop image analysis tools to enable the automated diagnosis of melanoma from dermoscopic images. \n",
    "\n",
    "The lesion images come from the HAM10000 Dataset [2], and were acquired with a variety of dermatoscope types, from all anatomic sites (excluding mucosa and nails), from a historical sample of patients presented for skin cancer screening, from several different institutions. Images were collected with approval of the Ethics Review Committee of University of Queensland (Protocol-No. 2017001223) and Medical University of Vienna (Protocol-No. 1804/2017).\n",
    "\n",
    "There are 7 classes:\n",
    "\n",
    "- MEL: “Melanoma” diagnosis confidence\n",
    "- NV: “Melanocytic nevus” diagnosis confidence\n",
    "- BCC: “Basal cell carcinoma” diagnosis confidence\n",
    "- AKIEC: “Actinic keratosis / Bowen’s disease (intraepithelial carcinoma)” diagnosis confidence\n",
    "- BKL: “Benign keratosis (solar lentigo / seborrheic keratosis / lichen planus-like keratosis)” diagnosis confidence\n",
    "- DF: “Dermatofibroma” diagnosis confidence\n",
    "- VASC: “Vascular lesion” diagnosis confidence\n",
    "\n",
    "The distribution of disease states represent a modified “real world” setting whereby there are more benign lesions than malignant lesions, but an over-representation of malignancies.\n",
    "\n",
    "Here are some examples (taken from the ISIC2018 website):\n",
    "\n",
    "<br/>\n",
    "<br/>\n",
    "<img src=\"https://miro.medium.com/v2/resize:fit:1400/format:webp/1*le3-EQ-rpTLKtgB4G8jKkw.png\">\n",
    "<br/>\n",
    "<br/>\n",
    "\n",
    "[1] Noel Codella, Veronica Rotemberg, Philipp Tschandl, M. Emre Celebi, Stephen Dusza, David Gutman, Brian Helba, Aadi Kalloo, Konstantinos Liopyris, Michael Marchetti, Harald Kittler, Allan Halpern: “Skin Lesion Analysis Toward Melanoma Detection 2018: A Challenge Hosted by the International Skin Imaging Collaboration (ISIC)”, 2018; https://arxiv.org/abs/1902.03368\n",
    "\n",
    "[2] Tschandl, P., Rosendahl, C. & Kittler, H. The HAM10000 dataset, a large collection of multi-source dermatoscopic images of common pigmented skin lesions. Sci. Data 5, 180161 doi:10.1038/sdata.2018.161 (2018).\n"
   ]
  },
  {
   "cell_type": "code",
   "execution_count": 1,
   "metadata": {
    "colab": {},
    "colab_type": "code",
    "id": "MQb2NgWuDgi5"
   },
   "outputs": [
    {
     "name": "stdout",
     "output_type": "stream",
     "text": [
      "Collecting pytorch-lightning\n",
      "  Obtaining dependency information for pytorch-lightning from https://files.pythonhosted.org/packages/2b/d2/ecd65ff1e0b1ca79f9785dd65d5ced7ec2643a828068aaa24e47e4c84a14/pytorch_lightning-2.4.0-py3-none-any.whl.metadata\n",
      "  Downloading pytorch_lightning-2.4.0-py3-none-any.whl.metadata (21 kB)\n",
      "Collecting torch\n",
      "  Obtaining dependency information for torch from https://files.pythonhosted.org/packages/0d/4a/e51420d46cfc90562e85af2fee912237c662ab31140ab179e49bd69401d6/torch-2.5.1-cp311-cp311-win_amd64.whl.metadata\n",
      "  Downloading torch-2.5.1-cp311-cp311-win_amd64.whl.metadata (28 kB)\n",
      "Collecting torchvision\n",
      "  Obtaining dependency information for torchvision from https://files.pythonhosted.org/packages/69/55/ce836703ff77bb21582c3098d5311f8ddde7eadc7eab04be9561961f4725/torchvision-0.20.1-cp311-cp311-win_amd64.whl.metadata\n",
      "  Downloading torchvision-0.20.1-cp311-cp311-win_amd64.whl.metadata (6.2 kB)\n",
      "Requirement already satisfied: tqdm>=4.57.0 in c:\\users\\robbi\\anaconda3\\envs\\proteobench_py311\\lib\\site-packages (from pytorch-lightning) (4.65.0)\n",
      "Requirement already satisfied: PyYAML>=5.4 in c:\\users\\robbi\\anaconda3\\envs\\proteobench_py311\\lib\\site-packages (from pytorch-lightning) (6.0)\n",
      "Requirement already satisfied: fsspec[http]>=2022.5.0 in c:\\users\\robbi\\anaconda3\\envs\\proteobench_py311\\lib\\site-packages (from pytorch-lightning) (2023.4.0)\n",
      "Collecting torchmetrics>=0.7.0 (from pytorch-lightning)\n",
      "  Obtaining dependency information for torchmetrics>=0.7.0 from https://files.pythonhosted.org/packages/46/1a/9728a502f377ab8cff1fd15c625aa2919a183fa113ebcefa2cd38edff28b/torchmetrics-1.6.0-py3-none-any.whl.metadata\n",
      "  Downloading torchmetrics-1.6.0-py3-none-any.whl.metadata (20 kB)\n",
      "Requirement already satisfied: packaging>=20.0 in c:\\users\\robbi\\anaconda3\\envs\\proteobench_py311\\lib\\site-packages (from pytorch-lightning) (23.1)\n",
      "Requirement already satisfied: typing-extensions>=4.4.0 in c:\\users\\robbi\\anaconda3\\envs\\proteobench_py311\\lib\\site-packages (from pytorch-lightning) (4.5.0)\n",
      "Collecting lightning-utilities>=0.10.0 (from pytorch-lightning)\n",
      "  Obtaining dependency information for lightning-utilities>=0.10.0 from https://files.pythonhosted.org/packages/2e/5d/4c4672025c23a305231a81bf492f65aa3ea0965a89f9ca369a9ee7d47fd9/lightning_utilities-0.11.8-py3-none-any.whl.metadata\n",
      "  Downloading lightning_utilities-0.11.8-py3-none-any.whl.metadata (5.2 kB)\n",
      "Requirement already satisfied: filelock in c:\\users\\robbi\\anaconda3\\envs\\proteobench_py311\\lib\\site-packages (from torch) (3.15.4)\n",
      "Collecting typing-extensions>=4.4.0 (from pytorch-lightning)\n",
      "  Obtaining dependency information for typing-extensions>=4.4.0 from https://files.pythonhosted.org/packages/26/9f/ad63fc0248c5379346306f8668cda6e2e2e9c95e01216d2b8ffd9ff037d0/typing_extensions-4.12.2-py3-none-any.whl.metadata\n",
      "  Using cached typing_extensions-4.12.2-py3-none-any.whl.metadata (3.0 kB)\n",
      "Requirement already satisfied: networkx in c:\\users\\robbi\\anaconda3\\envs\\proteobench_py311\\lib\\site-packages (from torch) (3.1)\n",
      "Requirement already satisfied: jinja2 in c:\\users\\robbi\\anaconda3\\envs\\proteobench_py311\\lib\\site-packages (from torch) (3.1.2)\n",
      "Collecting sympy==1.13.1 (from torch)\n",
      "  Obtaining dependency information for sympy==1.13.1 from https://files.pythonhosted.org/packages/b2/fe/81695a1aa331a842b582453b605175f419fe8540355886031328089d840a/sympy-1.13.1-py3-none-any.whl.metadata\n",
      "  Downloading sympy-1.13.1-py3-none-any.whl.metadata (12 kB)\n",
      "Requirement already satisfied: mpmath<1.4,>=1.1.0 in c:\\users\\robbi\\anaconda3\\envs\\proteobench_py311\\lib\\site-packages (from sympy==1.13.1->torch) (1.3.0)\n",
      "Requirement already satisfied: numpy in c:\\users\\robbi\\anaconda3\\envs\\proteobench_py311\\lib\\site-packages (from torchvision) (1.24.3)\n",
      "Requirement already satisfied: pillow!=8.3.*,>=5.3.0 in c:\\users\\robbi\\anaconda3\\envs\\proteobench_py311\\lib\\site-packages (from torchvision) (9.4.0)\n",
      "Requirement already satisfied: requests in c:\\users\\robbi\\anaconda3\\envs\\proteobench_py311\\lib\\site-packages (from fsspec[http]>=2022.5.0->pytorch-lightning) (2.31.0)\n",
      "Requirement already satisfied: aiohttp!=4.0.0a0,!=4.0.0a1 in c:\\users\\robbi\\anaconda3\\envs\\proteobench_py311\\lib\\site-packages (from fsspec[http]>=2022.5.0->pytorch-lightning) (3.8.3)\n",
      "Requirement already satisfied: setuptools in c:\\users\\robbi\\anaconda3\\envs\\proteobench_py311\\lib\\site-packages (from lightning-utilities>=0.10.0->pytorch-lightning) (68.0.0)\n",
      "Requirement already satisfied: colorama in c:\\users\\robbi\\anaconda3\\envs\\proteobench_py311\\lib\\site-packages (from tqdm>=4.57.0->pytorch-lightning) (0.4.6)\n",
      "Requirement already satisfied: MarkupSafe>=2.0 in c:\\users\\robbi\\anaconda3\\envs\\proteobench_py311\\lib\\site-packages (from jinja2->torch) (2.1.1)\n",
      "Requirement already satisfied: attrs>=17.3.0 in c:\\users\\robbi\\anaconda3\\envs\\proteobench_py311\\lib\\site-packages (from aiohttp!=4.0.0a0,!=4.0.0a1->fsspec[http]>=2022.5.0->pytorch-lightning) (23.2.0)\n",
      "Requirement already satisfied: charset-normalizer<3.0,>=2.0 in c:\\users\\robbi\\anaconda3\\envs\\proteobench_py311\\lib\\site-packages (from aiohttp!=4.0.0a0,!=4.0.0a1->fsspec[http]>=2022.5.0->pytorch-lightning) (2.0.4)\n",
      "Requirement already satisfied: multidict<7.0,>=4.5 in c:\\users\\robbi\\anaconda3\\envs\\proteobench_py311\\lib\\site-packages (from aiohttp!=4.0.0a0,!=4.0.0a1->fsspec[http]>=2022.5.0->pytorch-lightning) (6.0.2)\n",
      "Requirement already satisfied: async-timeout<5.0,>=4.0.0a3 in c:\\users\\robbi\\anaconda3\\envs\\proteobench_py311\\lib\\site-packages (from aiohttp!=4.0.0a0,!=4.0.0a1->fsspec[http]>=2022.5.0->pytorch-lightning) (4.0.2)\n",
      "Requirement already satisfied: yarl<2.0,>=1.0 in c:\\users\\robbi\\anaconda3\\envs\\proteobench_py311\\lib\\site-packages (from aiohttp!=4.0.0a0,!=4.0.0a1->fsspec[http]>=2022.5.0->pytorch-lightning) (1.8.1)\n",
      "Requirement already satisfied: frozenlist>=1.1.1 in c:\\users\\robbi\\anaconda3\\envs\\proteobench_py311\\lib\\site-packages (from aiohttp!=4.0.0a0,!=4.0.0a1->fsspec[http]>=2022.5.0->pytorch-lightning) (1.3.3)\n",
      "Requirement already satisfied: aiosignal>=1.1.2 in c:\\users\\robbi\\anaconda3\\envs\\proteobench_py311\\lib\\site-packages (from aiohttp!=4.0.0a0,!=4.0.0a1->fsspec[http]>=2022.5.0->pytorch-lightning) (1.2.0)\n",
      "Requirement already satisfied: idna<4,>=2.5 in c:\\users\\robbi\\anaconda3\\envs\\proteobench_py311\\lib\\site-packages (from requests->fsspec[http]>=2022.5.0->pytorch-lightning) (3.4)\n",
      "Requirement already satisfied: urllib3<3,>=1.21.1 in c:\\users\\robbi\\anaconda3\\envs\\proteobench_py311\\lib\\site-packages (from requests->fsspec[http]>=2022.5.0->pytorch-lightning) (1.26.16)\n",
      "Requirement already satisfied: certifi>=2017.4.17 in c:\\users\\robbi\\anaconda3\\envs\\proteobench_py311\\lib\\site-packages (from requests->fsspec[http]>=2022.5.0->pytorch-lightning) (2020.6.20)\n",
      "Downloading pytorch_lightning-2.4.0-py3-none-any.whl (815 kB)\n",
      "   ---------------------------------------- 0.0/815.2 kB ? eta -:--:--\n",
      "   --------------------------------------  809.0/815.2 kB 25.8 MB/s eta 0:00:01\n",
      "   --------------------------------------- 815.2/815.2 kB 17.1 MB/s eta 0:00:00\n",
      "Downloading torch-2.5.1-cp311-cp311-win_amd64.whl (203.1 MB)\n",
      "   ---------------------------------------- 0.0/203.1 MB ? eta -:--:--\n",
      "   ---------------------------------------- 1.4/203.1 MB 29.0 MB/s eta 0:00:07\n",
      "    --------------------------------------- 2.8/203.1 MB 29.8 MB/s eta 0:00:07\n",
      "    --------------------------------------- 4.3/203.1 MB 30.4 MB/s eta 0:00:07\n",
      "   - -------------------------------------- 5.7/203.1 MB 30.2 MB/s eta 0:00:07\n",
      "   - -------------------------------------- 7.2/203.1 MB 32.8 MB/s eta 0:00:06\n",
      "   - -------------------------------------- 8.8/203.1 MB 33.0 MB/s eta 0:00:06\n",
      "   - -------------------------------------- 10.0/203.1 MB 32.0 MB/s eta 0:00:07\n",
      "   -- ------------------------------------- 11.2/203.1 MB 31.2 MB/s eta 0:00:07\n",
      "   -- ------------------------------------- 12.3/203.1 MB 29.7 MB/s eta 0:00:07\n",
      "   -- ------------------------------------- 13.5/203.1 MB 29.7 MB/s eta 0:00:07\n",
      "   -- ------------------------------------- 14.6/203.1 MB 28.4 MB/s eta 0:00:07\n",
      "   --- ------------------------------------ 15.9/203.1 MB 28.4 MB/s eta 0:00:07\n",
      "   --- ------------------------------------ 17.2/203.1 MB 27.3 MB/s eta 0:00:07\n",
      "   --- ------------------------------------ 18.6/203.1 MB 27.3 MB/s eta 0:00:07\n",
      "   --- ------------------------------------ 20.0/203.1 MB 27.3 MB/s eta 0:00:07\n",
      "   ---- ----------------------------------- 21.4/203.1 MB 28.5 MB/s eta 0:00:07\n",
      "   ---- ----------------------------------- 22.9/203.1 MB 28.5 MB/s eta 0:00:07\n",
      "   ---- ----------------------------------- 24.3/203.1 MB 29.7 MB/s eta 0:00:07\n",
      "   ----- ---------------------------------- 25.7/203.1 MB 29.7 MB/s eta 0:00:06\n",
      "   ----- ---------------------------------- 26.7/203.1 MB 29.7 MB/s eta 0:00:06\n",
      "   ----- ---------------------------------- 27.1/203.1 MB 27.3 MB/s eta 0:00:07\n",
      "   ----- ---------------------------------- 28.7/203.1 MB 27.3 MB/s eta 0:00:07\n",
      "   ----- ---------------------------------- 30.1/203.1 MB 27.3 MB/s eta 0:00:07\n",
      "   ------ --------------------------------- 31.3/203.1 MB 27.3 MB/s eta 0:00:07\n",
      "   ------ --------------------------------- 32.4/203.1 MB 26.2 MB/s eta 0:00:07\n",
      "   ------ --------------------------------- 33.6/203.1 MB 25.2 MB/s eta 0:00:07\n",
      "   ------ --------------------------------- 34.7/203.1 MB 25.1 MB/s eta 0:00:07\n",
      "   ------- -------------------------------- 35.9/203.1 MB 24.2 MB/s eta 0:00:07\n",
      "   ------- -------------------------------- 37.2/203.1 MB 27.3 MB/s eta 0:00:07\n",
      "   ------- -------------------------------- 38.6/203.1 MB 27.3 MB/s eta 0:00:07\n",
      "   ------- -------------------------------- 40.0/203.1 MB 26.2 MB/s eta 0:00:07\n",
      "   -------- ------------------------------- 41.4/203.1 MB 27.3 MB/s eta 0:00:06\n",
      "   -------- ------------------------------- 42.7/203.1 MB 28.5 MB/s eta 0:00:06\n",
      "   -------- ------------------------------- 44.1/203.1 MB 28.4 MB/s eta 0:00:06\n",
      "   -------- ------------------------------- 45.6/203.1 MB 29.7 MB/s eta 0:00:06\n",
      "   --------- ------------------------------ 46.7/203.1 MB 29.7 MB/s eta 0:00:06\n",
      "   --------- ------------------------------ 47.8/203.1 MB 28.5 MB/s eta 0:00:06\n",
      "   --------- ------------------------------ 49.0/203.1 MB 28.5 MB/s eta 0:00:06\n",
      "   --------- ------------------------------ 50.1/203.1 MB 27.3 MB/s eta 0:00:06\n",
      "   ---------- ----------------------------- 51.3/203.1 MB 27.3 MB/s eta 0:00:06\n",
      "   ---------- ----------------------------- 52.6/203.1 MB 26.2 MB/s eta 0:00:06\n",
      "   ---------- ----------------------------- 53.7/203.1 MB 26.2 MB/s eta 0:00:06\n",
      "   ---------- ----------------------------- 55.0/203.1 MB 25.1 MB/s eta 0:00:06\n",
      "   ----------- ---------------------------- 56.3/203.1 MB 25.1 MB/s eta 0:00:06\n",
      "   ----------- ---------------------------- 57.7/203.1 MB 26.2 MB/s eta 0:00:06\n",
      "   ----------- ---------------------------- 59.1/203.1 MB 27.3 MB/s eta 0:00:06\n",
      "   ----------- ---------------------------- 60.4/203.1 MB 27.3 MB/s eta 0:00:06\n",
      "   ------------ --------------------------- 61.9/203.1 MB 28.5 MB/s eta 0:00:05\n",
      "   ------------ --------------------------- 63.3/203.1 MB 29.7 MB/s eta 0:00:05\n",
      "   ------------ --------------------------- 64.7/203.1 MB 29.7 MB/s eta 0:00:05\n",
      "   ------------- -------------------------- 66.1/203.1 MB 31.2 MB/s eta 0:00:05\n",
      "   ------------- -------------------------- 67.7/203.1 MB 31.1 MB/s eta 0:00:05\n",
      "   ------------- -------------------------- 68.8/203.1 MB 29.8 MB/s eta 0:00:05\n",
      "   ------------- -------------------------- 70.0/203.1 MB 29.8 MB/s eta 0:00:05\n",
      "   -------------- ------------------------- 71.1/203.1 MB 28.5 MB/s eta 0:00:05\n",
      "   -------------- ------------------------- 72.3/203.1 MB 28.5 MB/s eta 0:00:05\n",
      "   -------------- ------------------------- 73.5/203.1 MB 27.3 MB/s eta 0:00:05\n",
      "   -------------- ------------------------- 74.7/203.1 MB 27.3 MB/s eta 0:00:05\n",
      "   -------------- ------------------------- 76.1/203.1 MB 27.3 MB/s eta 0:00:05\n",
      "   --------------- ------------------------ 77.5/203.1 MB 26.2 MB/s eta 0:00:05\n",
      "   --------------- ------------------------ 78.9/203.1 MB 27.3 MB/s eta 0:00:05\n",
      "   --------------- ------------------------ 80.3/203.1 MB 28.5 MB/s eta 0:00:05\n",
      "   ---------------- ----------------------- 81.7/203.1 MB 28.5 MB/s eta 0:00:05\n",
      "   ---------------- ----------------------- 83.2/203.1 MB 29.7 MB/s eta 0:00:05\n",
      "   ---------------- ----------------------- 84.6/203.1 MB 31.2 MB/s eta 0:00:04\n",
      "   ---------------- ----------------------- 86.1/203.1 MB 31.2 MB/s eta 0:00:04\n",
      "   ----------------- ---------------------- 87.7/203.1 MB 31.2 MB/s eta 0:00:04\n",
      "   ----------------- ---------------------- 89.0/203.1 MB 31.1 MB/s eta 0:00:04\n",
      "   ----------------- ---------------------- 90.2/203.1 MB 31.2 MB/s eta 0:00:04\n",
      "   ------------------ --------------------- 91.4/203.1 MB 29.8 MB/s eta 0:00:04\n",
      "   ------------------ --------------------- 92.6/203.1 MB 29.7 MB/s eta 0:00:04\n",
      "   ------------------ --------------------- 93.7/203.1 MB 28.5 MB/s eta 0:00:04\n",
      "   ------------------ --------------------- 95.0/203.1 MB 28.5 MB/s eta 0:00:04\n",
      "   ------------------ --------------------- 96.3/203.1 MB 27.3 MB/s eta 0:00:04\n",
      "   ------------------- -------------------- 97.7/203.1 MB 27.3 MB/s eta 0:00:04\n",
      "   ------------------- -------------------- 99.1/203.1 MB 26.2 MB/s eta 0:00:04\n",
      "   ------------------- ------------------- 100.4/203.1 MB 27.3 MB/s eta 0:00:04\n",
      "   ------------------- ------------------- 101.9/203.1 MB 28.5 MB/s eta 0:00:04\n",
      "   ------------------- ------------------- 103.3/203.1 MB 29.7 MB/s eta 0:00:04\n",
      "   -------------------- ------------------ 104.7/203.1 MB 29.7 MB/s eta 0:00:04\n",
      "   -------------------- ------------------ 106.2/203.1 MB 31.2 MB/s eta 0:00:04\n",
      "   -------------------- ------------------ 107.7/203.1 MB 31.2 MB/s eta 0:00:04\n",
      "   -------------------- ------------------ 109.0/203.1 MB 29.8 MB/s eta 0:00:04\n",
      "   --------------------- ----------------- 110.1/203.1 MB 28.5 MB/s eta 0:00:04\n",
      "   --------------------- ----------------- 111.3/203.1 MB 28.5 MB/s eta 0:00:04\n",
      "   --------------------- ----------------- 112.5/203.1 MB 27.3 MB/s eta 0:00:04\n",
      "   --------------------- ----------------- 113.7/203.1 MB 27.3 MB/s eta 0:00:04\n",
      "   ---------------------- ---------------- 114.9/203.1 MB 26.2 MB/s eta 0:00:04\n",
      "   ---------------------- ---------------- 116.3/203.1 MB 26.2 MB/s eta 0:00:04\n",
      "   ---------------------- ---------------- 117.6/203.1 MB 26.2 MB/s eta 0:00:04\n",
      "   ---------------------- ---------------- 119.0/203.1 MB 26.2 MB/s eta 0:00:04\n",
      "   ----------------------- --------------- 120.4/203.1 MB 27.3 MB/s eta 0:00:04\n",
      "   ----------------------- --------------- 121.9/203.1 MB 28.5 MB/s eta 0:00:03\n",
      "   ----------------------- --------------- 123.3/203.1 MB 28.5 MB/s eta 0:00:03\n",
      "   ----------------------- --------------- 124.7/203.1 MB 29.7 MB/s eta 0:00:03\n",
      "   ------------------------ -------------- 126.2/203.1 MB 29.7 MB/s eta 0:00:03\n",
      "   ------------------------ -------------- 127.7/203.1 MB 29.7 MB/s eta 0:00:03\n",
      "   ------------------------ -------------- 129.2/203.1 MB 31.2 MB/s eta 0:00:03\n",
      "   ------------------------- ------------- 130.4/203.1 MB 29.8 MB/s eta 0:00:03\n",
      "   ------------------------- ------------- 131.6/203.1 MB 29.7 MB/s eta 0:00:03\n",
      "   ------------------------- ------------- 132.8/203.1 MB 28.5 MB/s eta 0:00:03\n",
      "   ------------------------- ------------- 133.9/203.1 MB 28.5 MB/s eta 0:00:03\n",
      "   ------------------------- ------------- 135.1/203.1 MB 27.3 MB/s eta 0:00:03\n",
      "   -------------------------- ------------ 136.4/203.1 MB 27.3 MB/s eta 0:00:03\n",
      "   -------------------------- ------------ 137.8/203.1 MB 26.2 MB/s eta 0:00:03\n",
      "   -------------------------- ------------ 139.1/203.1 MB 26.2 MB/s eta 0:00:03\n",
      "   -------------------------- ------------ 140.6/203.1 MB 26.2 MB/s eta 0:00:03\n",
      "   --------------------------- ----------- 142.0/203.1 MB 27.3 MB/s eta 0:00:03\n",
      "   --------------------------- ----------- 143.4/203.1 MB 28.5 MB/s eta 0:00:03\n",
      "   --------------------------- ----------- 144.8/203.1 MB 28.5 MB/s eta 0:00:03\n",
      "   ---------------------------- ---------- 146.2/203.1 MB 29.7 MB/s eta 0:00:02\n",
      "   ---------------------------- ---------- 147.7/203.1 MB 29.7 MB/s eta 0:00:02\n",
      "   ---------------------------- ---------- 149.3/203.1 MB 31.1 MB/s eta 0:00:02\n",
      "   ---------------------------- ---------- 150.9/203.1 MB 31.2 MB/s eta 0:00:02\n",
      "   ----------------------------- --------- 152.1/203.1 MB 31.2 MB/s eta 0:00:02\n",
      "   ----------------------------- --------- 153.3/203.1 MB 29.7 MB/s eta 0:00:02\n",
      "   ----------------------------- --------- 154.4/203.1 MB 28.5 MB/s eta 0:00:02\n",
      "   ----------------------------- --------- 155.6/203.1 MB 28.5 MB/s eta 0:00:02\n",
      "   ------------------------------ -------- 156.8/203.1 MB 28.5 MB/s eta 0:00:02\n",
      "   ------------------------------ -------- 158.1/203.1 MB 27.3 MB/s eta 0:00:02\n",
      "   ------------------------------ -------- 159.5/203.1 MB 28.5 MB/s eta 0:00:02\n",
      "   ------------------------------ -------- 160.8/203.1 MB 27.3 MB/s eta 0:00:02\n",
      "   ------------------------------- ------- 162.2/203.1 MB 27.3 MB/s eta 0:00:02\n",
      "   ------------------------------- ------- 163.6/203.1 MB 28.4 MB/s eta 0:00:02\n",
      "   ------------------------------- ------- 165.0/203.1 MB 29.8 MB/s eta 0:00:02\n",
      "   ------------------------------- ------- 166.5/203.1 MB 29.8 MB/s eta 0:00:02\n",
      "   -------------------------------- ------ 167.9/203.1 MB 29.7 MB/s eta 0:00:02\n",
      "   -------------------------------- ------ 169.3/203.1 MB 31.2 MB/s eta 0:00:02\n",
      "   -------------------------------- ------ 170.9/203.1 MB 31.2 MB/s eta 0:00:02\n",
      "   --------------------------------- ----- 172.3/203.1 MB 31.2 MB/s eta 0:00:01\n",
      "   --------------------------------- ----- 173.4/203.1 MB 29.7 MB/s eta 0:00:01\n",
      "   --------------------------------- ----- 174.6/203.1 MB 29.7 MB/s eta 0:00:01\n",
      "   --------------------------------- ----- 175.2/203.1 MB 29.7 MB/s eta 0:00:01\n",
      "   --------------------------------- ----- 176.3/203.1 MB 27.3 MB/s eta 0:00:01\n",
      "   ---------------------------------- ---- 177.5/203.1 MB 26.2 MB/s eta 0:00:01\n",
      "   ---------------------------------- ---- 178.8/203.1 MB 26.2 MB/s eta 0:00:01\n",
      "   ---------------------------------- ---- 180.1/203.1 MB 25.2 MB/s eta 0:00:01\n",
      "   ---------------------------------- ---- 181.4/203.1 MB 25.2 MB/s eta 0:00:01\n",
      "   ----------------------------------- --- 182.8/203.1 MB 25.1 MB/s eta 0:00:01\n",
      "   ----------------------------------- --- 184.2/203.1 MB 25.1 MB/s eta 0:00:01\n",
      "   ----------------------------------- --- 185.6/203.1 MB 27.3 MB/s eta 0:00:01\n",
      "   ----------------------------------- --- 187.0/203.1 MB 29.7 MB/s eta 0:00:01\n",
      "   ------------------------------------ -- 188.4/203.1 MB 29.7 MB/s eta 0:00:01\n",
      "   ------------------------------------ -- 189.9/203.1 MB 29.7 MB/s eta 0:00:01\n",
      "   ------------------------------------ -- 191.3/203.1 MB 29.7 MB/s eta 0:00:01\n",
      "   ------------------------------------ -- 192.5/203.1 MB 29.7 MB/s eta 0:00:01\n",
      "   ------------------------------------- - 193.6/203.1 MB 29.7 MB/s eta 0:00:01\n",
      "   ------------------------------------- - 194.8/203.1 MB 28.5 MB/s eta 0:00:01\n",
      "   ------------------------------------- - 195.9/203.1 MB 28.4 MB/s eta 0:00:01\n",
      "   ------------------------------------- - 197.1/203.1 MB 27.3 MB/s eta 0:00:01\n",
      "   --------------------------------------  198.3/203.1 MB 27.3 MB/s eta 0:00:01\n",
      "   --------------------------------------  199.6/203.1 MB 26.2 MB/s eta 0:00:01\n",
      "   --------------------------------------  201.0/203.1 MB 26.2 MB/s eta 0:00:01\n",
      "   --------------------------------------  202.3/203.1 MB 27.3 MB/s eta 0:00:01\n",
      "   --------------------------------------  203.1/203.1 MB 26.2 MB/s eta 0:00:01\n",
      "   --------------------------------------  203.1/203.1 MB 26.2 MB/s eta 0:00:01\n",
      "   --------------------------------------  203.1/203.1 MB 26.2 MB/s eta 0:00:01\n",
      "   --------------------------------------  203.1/203.1 MB 26.2 MB/s eta 0:00:01\n",
      "   --------------------------------------  203.1/203.1 MB 26.2 MB/s eta 0:00:01\n",
      "   --------------------------------------- 203.1/203.1 MB 13.1 MB/s eta 0:00:00\n",
      "Downloading sympy-1.13.1-py3-none-any.whl (6.2 MB)\n",
      "   ---------------------------------------- 0.0/6.2 MB ? eta -:--:--\n",
      "   -------- ------------------------------- 1.3/6.2 MB 40.6 MB/s eta 0:00:01\n",
      "   ----------------- ---------------------- 2.7/6.2 MB 34.8 MB/s eta 0:00:01\n",
      "   -------------------------- ------------- 4.1/6.2 MB 33.0 MB/s eta 0:00:01\n",
      "   ------------------------------------ --- 5.6/6.2 MB 32.4 MB/s eta 0:00:01\n",
      "   ---------------------------------------  6.2/6.2 MB 32.8 MB/s eta 0:00:01\n",
      "   ---------------------------------------- 6.2/6.2 MB 28.2 MB/s eta 0:00:00\n",
      "Downloading torchvision-0.20.1-cp311-cp311-win_amd64.whl (1.6 MB)\n",
      "   ---------------------------------------- 0.0/1.6 MB ? eta -:--:--\n",
      "   ------------------------------------ --- 1.4/1.6 MB 30.1 MB/s eta 0:00:01\n",
      "   ---------------------------------------- 1.6/1.6 MB 25.0 MB/s eta 0:00:00\n",
      "Downloading lightning_utilities-0.11.8-py3-none-any.whl (26 kB)\n",
      "Downloading torchmetrics-1.6.0-py3-none-any.whl (926 kB)\n",
      "   ---------------------------------------- 0.0/926.4 kB ? eta -:--:--\n",
      "   --------------------------------------- 926.4/926.4 kB 29.6 MB/s eta 0:00:00\n",
      "Using cached typing_extensions-4.12.2-py3-none-any.whl (37 kB)\n",
      "Installing collected packages: typing-extensions, sympy, torch, lightning-utilities, torchvision, torchmetrics, pytorch-lightning\n",
      "  Attempting uninstall: typing-extensions\n",
      "    Found existing installation: typing_extensions 4.5.0\n",
      "    Uninstalling typing_extensions-4.5.0:\n",
      "      Successfully uninstalled typing_extensions-4.5.0\n",
      "  Attempting uninstall: sympy\n",
      "    Found existing installation: sympy 1.11.1\n",
      "    Uninstalling sympy-1.11.1:\n",
      "      Successfully uninstalled sympy-1.11.1\n",
      "Successfully installed lightning-utilities-0.11.8 pytorch-lightning-2.4.0 sympy-1.13.1 torch-2.5.1 torchmetrics-1.6.0 torchvision-0.20.1 typing-extensions-4.12.2\n"
     ]
    }
   ],
   "source": [
    "!pip install pytorch-lightning torch torchvision"
   ]
  },
  {
   "cell_type": "markdown",
   "metadata": {
    "colab_type": "text",
    "id": "zF9uvbXNVrVY"
   },
   "source": [
    "## Import TensorFlow and other libraries"
   ]
  },
  {
   "cell_type": "code",
   "execution_count": 2,
   "metadata": {
    "colab": {},
    "colab_type": "code",
    "id": "L1WtoaOHVrVh"
   },
   "outputs": [],
   "source": [
    "import random\n",
    "import os\n",
    "import pathlib\n",
    "\n",
    "import matplotlib.pyplot as plt\n",
    "\n",
    "import torch\n",
    "from torch.utils.data import random_split, DataLoader\n",
    "from torch import nn\n",
    "from torch.nn import functional as F\n",
    "\n",
    "from torchvision import transforms, datasets\n",
    "\n",
    "import pytorch_lightning as pl\n",
    "from pytorch_lightning import Trainer"
   ]
  },
  {
   "cell_type": "markdown",
   "metadata": {
    "colab_type": "text",
    "id": "UZZI6lNkVrVm"
   },
   "source": [
    "## Download and parse the dataset"
   ]
  },
  {
   "cell_type": "code",
   "execution_count": 3,
   "metadata": {
    "colab": {},
    "colab_type": "code",
    "id": "KE32pdTCdWJf"
   },
   "outputs": [
    {
     "name": "stderr",
     "output_type": "stream",
     "text": [
      "'wget' is not recognized as an internal or external command,\n",
      "operable program or batch file.\n",
      "unzip:  cannot find or open ISIC2018_Task3_Training_Input.zip, ISIC2018_Task3_Training_Input.zip.zip or ISIC2018_Task3_Training_Input.zip.ZIP.\n",
      "'wget' is not recognized as an internal or external command,\n",
      "operable program or batch file.\n",
      "unzip:  cannot find or open ISIC2018_Task3_Training_GroundTruth.zip, ISIC2018_Task3_Training_GroundTruth.zip.zip or ISIC2018_Task3_Training_GroundTruth.zip.ZIP.\n"
     ]
    },
    {
     "ename": "FileNotFoundError",
     "evalue": "[Errno 2] No such file or directory: 'ISIC2018_Task3_Training_GroundTruth/ISIC2018_Task3_Training_GroundTruth.csv'",
     "output_type": "error",
     "traceback": [
      "\u001b[1;31m---------------------------------------------------------------------------\u001b[0m",
      "\u001b[1;31mFileNotFoundError\u001b[0m                         Traceback (most recent call last)",
      "Cell \u001b[1;32mIn[3], line 7\u001b[0m\n\u001b[0;32m      4\u001b[0m get_ipython()\u001b[38;5;241m.\u001b[39msystem(\u001b[38;5;124m'\u001b[39m\u001b[38;5;124munzip ISIC2018_Task3_Training_GroundTruth.zip\u001b[39m\u001b[38;5;124m'\u001b[39m)\n\u001b[0;32m      5\u001b[0m get_ipython()\u001b[38;5;241m.\u001b[39msystem(\u001b[38;5;124m'\u001b[39m\u001b[38;5;124mmkdir data\u001b[39m\u001b[38;5;124m'\u001b[39m)\n\u001b[1;32m----> 7\u001b[0m \u001b[38;5;28;01mwith\u001b[39;00m \u001b[38;5;28mopen\u001b[39m(\u001b[38;5;124m\"\u001b[39m\u001b[38;5;124mISIC2018_Task3_Training_GroundTruth/ISIC2018_Task3_Training_GroundTruth.csv\u001b[39m\u001b[38;5;124m\"\u001b[39m) \u001b[38;5;28;01mas\u001b[39;00m f:\n\u001b[0;32m      8\u001b[0m     header \u001b[38;5;241m=\u001b[39m f\u001b[38;5;241m.\u001b[39mreadline()\n\u001b[0;32m      9\u001b[0m     header \u001b[38;5;241m=\u001b[39m header\u001b[38;5;241m.\u001b[39mrstrip()\u001b[38;5;241m.\u001b[39msplit(\u001b[38;5;124m\"\u001b[39m\u001b[38;5;124m,\u001b[39m\u001b[38;5;124m\"\u001b[39m)\n",
      "File \u001b[1;32m~\\anaconda3\\envs\\proteobench_py311\\Lib\\site-packages\\IPython\\core\\interactiveshell.py:284\u001b[0m, in \u001b[0;36m_modified_open\u001b[1;34m(file, *args, **kwargs)\u001b[0m\n\u001b[0;32m    277\u001b[0m \u001b[38;5;28;01mif\u001b[39;00m file \u001b[38;5;129;01min\u001b[39;00m {\u001b[38;5;241m0\u001b[39m, \u001b[38;5;241m1\u001b[39m, \u001b[38;5;241m2\u001b[39m}:\n\u001b[0;32m    278\u001b[0m     \u001b[38;5;28;01mraise\u001b[39;00m \u001b[38;5;167;01mValueError\u001b[39;00m(\n\u001b[0;32m    279\u001b[0m         \u001b[38;5;124mf\u001b[39m\u001b[38;5;124m\"\u001b[39m\u001b[38;5;124mIPython won\u001b[39m\u001b[38;5;124m'\u001b[39m\u001b[38;5;124mt let you open fd=\u001b[39m\u001b[38;5;132;01m{\u001b[39;00mfile\u001b[38;5;132;01m}\u001b[39;00m\u001b[38;5;124m by default \u001b[39m\u001b[38;5;124m\"\u001b[39m\n\u001b[0;32m    280\u001b[0m         \u001b[38;5;124m\"\u001b[39m\u001b[38;5;124mas it is likely to crash IPython. If you know what you are doing, \u001b[39m\u001b[38;5;124m\"\u001b[39m\n\u001b[0;32m    281\u001b[0m         \u001b[38;5;124m\"\u001b[39m\u001b[38;5;124myou can use builtins\u001b[39m\u001b[38;5;124m'\u001b[39m\u001b[38;5;124m open.\u001b[39m\u001b[38;5;124m\"\u001b[39m\n\u001b[0;32m    282\u001b[0m     )\n\u001b[1;32m--> 284\u001b[0m \u001b[38;5;28;01mreturn\u001b[39;00m io_open(file, \u001b[38;5;241m*\u001b[39margs, \u001b[38;5;241m*\u001b[39m\u001b[38;5;241m*\u001b[39mkwargs)\n",
      "\u001b[1;31mFileNotFoundError\u001b[0m: [Errno 2] No such file or directory: 'ISIC2018_Task3_Training_GroundTruth/ISIC2018_Task3_Training_GroundTruth.csv'"
     ]
    }
   ],
   "source": [
    "!wget https://isic-challenge-data.s3.amazonaws.com/2018/ISIC2018_Task3_Training_Input.zip\n",
    "!unzip ISIC2018_Task3_Training_Input.zip\n",
    "!wget https://isic-challenge-data.s3.amazonaws.com/2018/ISIC2018_Task3_Training_GroundTruth.zip\n",
    "!unzip ISIC2018_Task3_Training_GroundTruth.zip\n",
    "!mkdir data\n",
    "\n",
    "with open(\"ISIC2018_Task3_Training_GroundTruth/ISIC2018_Task3_Training_GroundTruth.csv\") as f:\n",
    "    header = f.readline()\n",
    "    header = header.rstrip().split(\",\")\n",
    "    \n",
    "    for i in range(1,len(header)):\n",
    "        os.mkdir(\"data/%s\"%header[i])\n",
    "        \n",
    "    for row in f:\n",
    "        l=row.rstrip().split(\",\")\n",
    "        \n",
    "    for i in range(1,len(l)):\n",
    "        if l[i] == \"1.0\":\n",
    "            os.system(\"mv ISIC2018_Task3_Training_Input/%s.jpg data/%s\"%(l[0],header[i])) \n",
    "\n",
    "data_dir = pathlib.Path(\"data/\")"
   ]
  },
  {
   "cell_type": "markdown",
   "metadata": {
    "colab_type": "text",
    "id": "VpmywIlsVrVx"
   },
   "source": [
    "After downloading, you should now have a copy of the dataset available:"
   ]
  },
  {
   "cell_type": "code",
   "execution_count": null,
   "metadata": {
    "colab": {},
    "colab_type": "code",
    "id": "SbtTDYhOHZb6"
   },
   "outputs": [],
   "source": [
    "image_count = len(list(data_dir.glob('*/*.jpg')))\n",
    "print(image_count)"
   ]
  },
  {
   "cell_type": "markdown",
   "metadata": {
    "colab_type": "text",
    "id": "PVmwkOSdHZ5A"
   },
   "source": [
    "Here is one random malanoma image:"
   ]
  },
  {
   "cell_type": "code",
   "execution_count": null,
   "metadata": {
    "colab": {},
    "colab_type": "code",
    "id": "N1loMlbYHeiJ"
   },
   "outputs": [],
   "source": [
    "import random\n",
    "imgs = list(data_dir.glob('MEL/*'))\n",
    "PIL.Image.open(str(imgs[random.randint(0,len(imgs)-1)]))"
   ]
  },
  {
   "cell_type": "markdown",
   "metadata": {
    "colab_type": "text",
    "id": "gIjgz7_JIo_m"
   },
   "source": [
    "# Load using keras.preprocessing\n",
    "\n",
    "Let's load these images off disk using the helpful [image_dataset_from_directory](https://www.tensorflow.org/api_docs/python/tf/keras/preprocessing/image_dataset_from_directory) utility. This will take you from a directory of images on disk to a `tf.data.Dataset` in just a couple lines of code. If you like, you can also write your own data loading code from scratch by visiting the [load images](https://www.tensorflow.org/tutorials/load_data/images) tutorial."
   ]
  },
  {
   "cell_type": "markdown",
   "metadata": {
    "colab_type": "text",
    "id": "xyDNn9MbIzfT"
   },
   "source": [
    "## Create a dataset"
   ]
  },
  {
   "cell_type": "markdown",
   "metadata": {
    "colab_type": "text",
    "id": "anqiK_AGI086"
   },
   "source": [
    "Define some parameters for the loader:"
   ]
  },
  {
   "cell_type": "code",
   "execution_count": null,
   "metadata": {
    "colab": {},
    "colab_type": "code",
    "id": "H74l2DoDI2XD"
   },
   "outputs": [],
   "source": [
    "batch_size = 32\n",
    "img_height = 180\n",
    "img_width = 180"
   ]
  },
  {
   "cell_type": "markdown",
   "metadata": {
    "colab_type": "text",
    "id": "pFBhRrrEI49z"
   },
   "source": [
    "It's good practice to use a validation split when developing your model. We will use 80% of the images for training, and 20% for validation."
   ]
  },
  {
   "cell_type": "code",
   "execution_count": null,
   "metadata": {
    "colab": {},
    "colab_type": "code",
    "id": "fIR0kRZiI_AT"
   },
   "outputs": [],
   "source": [
    "train_ds = tf.keras.preprocessing.image_dataset_from_directory(\n",
    "  data_dir,\n",
    "  validation_split=0.2,\n",
    "  subset=\"training\",\n",
    "  seed=123,\n",
    "  image_size=(img_height, img_width),\n",
    "  batch_size=batch_size)"
   ]
  },
  {
   "cell_type": "code",
   "execution_count": null,
   "metadata": {
    "colab": {},
    "colab_type": "code",
    "id": "iscU3UoVJBXj"
   },
   "outputs": [],
   "source": [
    "val_ds = tf.keras.preprocessing.image_dataset_from_directory(\n",
    "  data_dir,\n",
    "  validation_split=0.2,\n",
    "  subset=\"validation\",\n",
    "  seed=123,\n",
    "  image_size=(img_height, img_width),\n",
    "  batch_size=batch_size)"
   ]
  },
  {
   "cell_type": "markdown",
   "metadata": {
    "colab_type": "text",
    "id": "WLQULyAvJC3X"
   },
   "source": [
    "You can find the class names in the `class_names` attribute on these datasets. These correspond to the directory names in alphabetical order."
   ]
  },
  {
   "cell_type": "code",
   "execution_count": null,
   "metadata": {
    "colab": {},
    "colab_type": "code",
    "id": "ZHAxkHX5JD3k"
   },
   "outputs": [],
   "source": [
    "class_names = train_ds.class_names\n",
    "print(class_names)"
   ]
  },
  {
   "cell_type": "markdown",
   "metadata": {
    "colab_type": "text",
    "id": "_uoVvxSLJW9m"
   },
   "source": [
    "## Visualize the data\n",
    "\n",
    "Here are the first processed 9 images from the training dataset."
   ]
  },
  {
   "cell_type": "code",
   "execution_count": null,
   "metadata": {
    "colab": {},
    "colab_type": "code",
    "id": "wBmEA9c0JYes"
   },
   "outputs": [],
   "source": [
    "import matplotlib.pyplot as plt\n",
    "\n",
    "plt.figure(figsize=(10, 10))\n",
    "for images, labels in train_ds.take(1):\n",
    "  for i in range(9):\n",
    "    ax = plt.subplot(3, 3, i + 1)\n",
    "    plt.imshow(images[i].numpy().astype(\"uint8\"))\n",
    "    plt.title(class_names[labels[i]])\n",
    "    plt.axis(\"off\")"
   ]
  },
  {
   "cell_type": "markdown",
   "metadata": {
    "colab_type": "text",
    "id": "5M6BXtXFJdW0"
   },
   "source": [
    "You will train a model using these datasets by passing them to `model.fit` in a moment. If you like, you can also manually iterate over the dataset and retrieve batches of images:"
   ]
  },
  {
   "cell_type": "code",
   "execution_count": null,
   "metadata": {
    "colab": {},
    "colab_type": "code",
    "id": "2-MfMoenJi8s"
   },
   "outputs": [],
   "source": [
    "for image_batch, labels_batch in train_ds:\n",
    "  print(image_batch.shape)\n",
    "  print(labels_batch.shape)\n",
    "  break"
   ]
  },
  {
   "cell_type": "markdown",
   "metadata": {
    "colab_type": "text",
    "id": "Wj4FrKxxJkoW"
   },
   "source": [
    "The `image_batch` is a tensor of the shape `(32, 180, 180, 3)`. This is a batch of 32 images of shape `180x180x3` (the last dimension referes to color channels RGB). The `label_batch` is a tensor of the shape `(32,)`, these are corresponding labels to the 32 images. \n"
   ]
  },
  {
   "cell_type": "markdown",
   "metadata": {
    "colab_type": "text",
    "id": "4Dr0at41KcAU"
   },
   "source": [
    "## Configure the dataset for performance\n",
    "\n",
    "Let's make sure to use buffered prefetching so we can yield data from disk without having I/O become blocking. These are two important methods you should use when loading data.\n",
    "\n",
    "`Dataset.cache()` keeps the images in memory after they're loaded off disk during the first epoch. This will ensure the dataset does not become a bottleneck while training your model. If your dataset is too large to fit into memory, you can also use this method to create a performant on-disk cache.\n",
    "\n",
    "`Dataset.prefetch()` overlaps data preprocessing and model execution while training. \n",
    "\n",
    "Interested readers can learn more about both methods, as well as how to cache data to disk in the [data performance guide](https://www.tensorflow.org/guide/data_performance#prefetching)."
   ]
  },
  {
   "cell_type": "code",
   "execution_count": null,
   "metadata": {
    "colab": {},
    "colab_type": "code",
    "id": "nOjJSm7DKoZA"
   },
   "outputs": [],
   "source": [
    "AUTOTUNE = tf.data.experimental.AUTOTUNE\n",
    "\n",
    "train_ds = train_ds.cache().shuffle(1000).prefetch(buffer_size=AUTOTUNE)\n",
    "val_ds = val_ds.cache().prefetch(buffer_size=AUTOTUNE)"
   ]
  },
  {
   "cell_type": "markdown",
   "metadata": {
    "colab_type": "text",
    "id": "8GUnmPF4JvEf"
   },
   "source": [
    "## Standardize the data"
   ]
  },
  {
   "cell_type": "markdown",
   "metadata": {
    "colab_type": "text",
    "id": "e56VXHMWJxYT"
   },
   "source": [
    "The RGB channel values are in the `[0, 255]` range. This is not ideal for a neural network; in general you should seek to make your input values small. Here, we will standardize values to be in the `[0, 1]` by using a Rescaling layer."
   ]
  },
  {
   "cell_type": "code",
   "execution_count": null,
   "metadata": {
    "colab": {},
    "colab_type": "code",
    "id": "PEYxo2CTJvY9"
   },
   "outputs": [],
   "source": [
    "normalization_layer = layers.experimental.preprocessing.Rescaling(1./255)"
   ]
  },
  {
   "cell_type": "markdown",
   "metadata": {
    "colab_type": "text",
    "id": "8aGpkwFaIw4i"
   },
   "source": [
    "Note: The Keras Preprocesing utilities and layers introduced in this section are currently experimental and may change."
   ]
  },
  {
   "cell_type": "markdown",
   "metadata": {
    "colab_type": "text",
    "id": "Bl4RmanbJ4g0"
   },
   "source": [
    "There are two ways to use this layer. You can apply it to the dataset by calling map:"
   ]
  },
  {
   "cell_type": "code",
   "execution_count": null,
   "metadata": {
    "colab": {},
    "colab_type": "code",
    "id": "X9o9ESaJJ502"
   },
   "outputs": [],
   "source": [
    "normalized_ds = train_ds.map(lambda x, y: (normalization_layer(x), y))\n",
    "image_batch, labels_batch = next(iter(normalized_ds))\n",
    "first_image = image_batch[0]\n",
    "# Notice the pixels values are now in `[0,1]`.\n",
    "print(np.min(first_image), np.max(first_image)) "
   ]
  },
  {
   "cell_type": "markdown",
   "metadata": {
    "colab_type": "text",
    "id": "XWEOmRSBJ9J8"
   },
   "source": [
    "Or, you can include the layer inside your model definition, which can simplify deployment. We will use the second approach here."
   ]
  },
  {
   "cell_type": "markdown",
   "metadata": {
    "colab_type": "text",
    "id": "XsRk1xCwKZR4"
   },
   "source": [
    "Note: we previously resized images using the `image_size` argument of `image_dataset_from_directory`. If you want to include the resizing logic in your model as well, you can use the [Resizing](https://www.tensorflow.org/api_docs/python/tf/keras/layers/experimental/preprocessing/Resizing) layer."
   ]
  },
  {
   "cell_type": "markdown",
   "metadata": {
    "colab_type": "text",
    "id": "WcUTyDOPKucd"
   },
   "source": [
    "# Create the model\n",
    "\n",
    "The model consists of three convolution blocks with a max pool layer in each of them. There's a fully connected layer with 128 units on top of it that is activated by a `relu` activation function. This model has not been tuned for high accuracy, the goal of this tutorial is to show a standard approach. "
   ]
  },
  {
   "cell_type": "code",
   "execution_count": null,
   "metadata": {
    "colab": {},
    "colab_type": "code",
    "id": "QR6argA1K074"
   },
   "outputs": [],
   "source": [
    "num_classes = 7\n",
    "\n",
    "model = Sequential([\n",
    "  layers.experimental.preprocessing.Rescaling(1./255, input_shape=(img_height, img_width, 3)),\n",
    "  layers.Conv2D(16, 3, padding='same', activation='relu'),\n",
    "  layers.MaxPooling2D(),\n",
    "  layers.Conv2D(32, 3, padding='same', activation='relu'),\n",
    "  layers.MaxPooling2D(),\n",
    "  layers.Conv2D(64, 3, padding='same', activation='relu'),\n",
    "  layers.MaxPooling2D(),\n",
    "  layers.Flatten(),\n",
    "  layers.Dense(128, activation='relu'),\n",
    "  layers.Dense(num_classes)\n",
    "])"
   ]
  },
  {
   "cell_type": "markdown",
   "metadata": {
    "colab_type": "text",
    "id": "EaKFzz72Lqpg"
   },
   "source": [
    "## Compile the model\n",
    "\n",
    "For this tutorial, choose the `optimizers.Adam` optimizer and `losses.SparseCategoricalCrossentropy` loss function. To view training and validation accuracy for each training epoch, pass the `metrics` argument."
   ]
  },
  {
   "cell_type": "code",
   "execution_count": null,
   "metadata": {
    "colab": {},
    "colab_type": "code",
    "id": "jloGNS1MLx3A"
   },
   "outputs": [],
   "source": [
    "model.compile(optimizer='adam',\n",
    "              loss=tf.keras.losses.SparseCategoricalCrossentropy(from_logits=True),\n",
    "              metrics=['accuracy'])"
   ]
  },
  {
   "cell_type": "markdown",
   "metadata": {
    "colab_type": "text",
    "id": "aMJ4DnuJL55A"
   },
   "source": [
    "## Model summary\n",
    "\n",
    "View all the layers of the network using the model's `summary` method:"
   ]
  },
  {
   "cell_type": "code",
   "execution_count": null,
   "metadata": {
    "colab": {},
    "colab_type": "code",
    "id": "llLYH-BXL7Xe"
   },
   "outputs": [],
   "source": [
    "model.summary()"
   ]
  },
  {
   "cell_type": "markdown",
   "metadata": {
    "colab_type": "text",
    "id": "NiYHcbvaL9H-"
   },
   "source": [
    "## Train the model"
   ]
  },
  {
   "cell_type": "code",
   "execution_count": null,
   "metadata": {
    "colab": {},
    "colab_type": "code",
    "id": "5fWToCqYMErH"
   },
   "outputs": [],
   "source": [
    "epochs=10\n",
    "history = model.fit(\n",
    "  train_ds,\n",
    "  validation_data=val_ds,\n",
    "  epochs=epochs\n",
    ")"
   ]
  },
  {
   "cell_type": "markdown",
   "metadata": {
    "colab_type": "text",
    "id": "SyFKdQpXMJT4"
   },
   "source": [
    "## Visualize training results"
   ]
  },
  {
   "cell_type": "markdown",
   "metadata": {
    "colab_type": "text",
    "id": "dFvOvmAmMK9w"
   },
   "source": [
    "Create plots of loss and accuracy on the training and validation sets."
   ]
  },
  {
   "cell_type": "code",
   "execution_count": null,
   "metadata": {
    "colab": {},
    "colab_type": "code",
    "id": "jWnopEChMMCn"
   },
   "outputs": [],
   "source": [
    "acc = history.history['accuracy']\n",
    "val_acc = history.history['val_accuracy']\n",
    "\n",
    "loss=history.history['loss']\n",
    "val_loss=history.history['val_loss']\n",
    "\n",
    "epochs_range = range(epochs)\n",
    "\n",
    "plt.figure(figsize=(8, 8))\n",
    "plt.subplot(1, 2, 1)\n",
    "plt.plot(epochs_range, acc, label='Training Accuracy')\n",
    "plt.plot(epochs_range, val_acc, label='Validation Accuracy')\n",
    "plt.legend(loc='lower right')\n",
    "plt.title('Training and Validation Accuracy')\n",
    "\n",
    "plt.subplot(1, 2, 2)\n",
    "plt.plot(epochs_range, loss, label='Training Loss')\n",
    "plt.plot(epochs_range, val_loss, label='Validation Loss')\n",
    "plt.legend(loc='upper right')\n",
    "plt.title('Training and Validation Loss')\n",
    "plt.show()"
   ]
  },
  {
   "cell_type": "markdown",
   "metadata": {
    "colab_type": "text",
    "id": "hO_jT7HwMrEn"
   },
   "source": [
    "As you can see from the plots, training accuracy and validation accuracy are off by large margin. \n",
    "\n",
    "Let's look at what went wrong and try to increase the overall performance of the model."
   ]
  },
  {
   "cell_type": "markdown",
   "metadata": {
    "colab_type": "text",
    "id": "hqtyGodAMvNV"
   },
   "source": [
    "## Overfitting"
   ]
  },
  {
   "cell_type": "markdown",
   "metadata": {
    "colab_type": "text",
    "id": "ixsz9XFfMxcu"
   },
   "source": [
    "In the plots above, the training accuracy is increasing linearly over time, whereas validation accuracy stalls in the training process. Also, the difference in accuracy between training and validation accuracy is noticeable—a sign of [overfitting](https://www.tensorflow.org/tutorials/keras/overfit_and_underfit).\n",
    "\n",
    "When there are a small number of training examples, the model sometimes learns from noises or unwanted details from training examples—to an extent that it negatively impacts the performance of the model on new examples. This phenomenon is known as overfitting. It means that the model will have a difficult time generalizing on a new dataset.\n",
    "\n",
    "There are multiple ways to fight overfitting in the training process. In this tutorial, you'll use *data augmentation* and add *Dropout* to your model."
   ]
  },
  {
   "cell_type": "markdown",
   "metadata": {
    "colab_type": "text",
    "id": "BDMfYqwmM1C-"
   },
   "source": [
    "## Data augmentation"
   ]
  },
  {
   "cell_type": "markdown",
   "metadata": {
    "colab_type": "text",
    "id": "GxYwix81M2YO"
   },
   "source": [
    "Overfitting generally occurs when there are a small number of training examples. [Data augmentation](https://www.tensorflow.org/tutorials/images/data_augmentation) takes the approach of generating additional training data from your existing examples by augmenting then using random transformations that yield believable-looking images. This helps expose the model to more aspects of the data and generalize better.\n",
    "\n",
    "We will implement data augmentation using experimental [Keras Preprocessing Layers](https://www.tensorflow.org/api_docs/python/tf/keras/layers/experimental/preprocessing/?version=nightly). These can be included inside your model like other layers, and run on the GPU."
   ]
  },
  {
   "cell_type": "code",
   "execution_count": null,
   "metadata": {
    "colab": {},
    "colab_type": "code",
    "id": "9J80BAbIMs21"
   },
   "outputs": [],
   "source": [
    "data_augmentation = keras.Sequential(\n",
    "  [\n",
    "    layers.experimental.preprocessing.RandomFlip(\"horizontal\", \n",
    "                                                 input_shape=(img_height, \n",
    "                                                              img_width,\n",
    "                                                              3)),\n",
    "    layers.experimental.preprocessing.RandomRotation(0.1),\n",
    "    layers.experimental.preprocessing.RandomZoom(0.1),\n",
    "  ]\n",
    ")"
   ]
  },
  {
   "cell_type": "markdown",
   "metadata": {
    "colab_type": "text",
    "id": "PN4k1dK3S6eV"
   },
   "source": [
    "Let's visualize what a few augmented examples look like by applying data augmentation to the same image several times:"
   ]
  },
  {
   "cell_type": "code",
   "execution_count": null,
   "metadata": {
    "colab": {},
    "colab_type": "code",
    "id": "7Z90k539S838"
   },
   "outputs": [],
   "source": [
    "plt.figure(figsize=(10, 10))\n",
    "for images, _ in train_ds.take(1):\n",
    "  for i in range(9):\n",
    "    augmented_images = data_augmentation(images)\n",
    "    ax = plt.subplot(3, 3, i + 1)\n",
    "    plt.imshow(augmented_images[0].numpy().astype(\"uint8\"))\n",
    "    plt.axis(\"off\")"
   ]
  },
  {
   "cell_type": "markdown",
   "metadata": {
    "colab_type": "text",
    "id": "tsjXCBLYYNs5"
   },
   "source": [
    "We will use data augmentation to train a model in a moment."
   ]
  },
  {
   "cell_type": "markdown",
   "metadata": {
    "colab_type": "text",
    "id": "ZeD3bXepYKXs"
   },
   "source": [
    "## Dropout\n",
    "\n",
    "Another technique to reduce overfitting is to introduce [Dropout](https://developers.google.com/machine-learning/glossary#dropout_regularization) to the network, a form of *regularization*.\n",
    "\n",
    "When you apply Dropout to a layer it randomly drops out (by setting the activation to zero) a number of output units from the layer during the training process. Dropout takes a fractional number as its input value, in the form such as 0.1, 0.2, 0.4, etc. This means dropping out 10%, 20% or 40% of the output units randomly from the applied layer.\n",
    "\n",
    "Let's create a new neural network using `layers.Dropout`, then train it using augmented images."
   ]
  },
  {
   "cell_type": "code",
   "execution_count": null,
   "metadata": {
    "colab": {},
    "colab_type": "code",
    "id": "2Zeg8zsqXCsm"
   },
   "outputs": [],
   "source": [
    "model = Sequential([\n",
    "  data_augmentation,\n",
    "  layers.experimental.preprocessing.Rescaling(1./255),\n",
    "  layers.Conv2D(16, 3, padding='same', activation='relu'),\n",
    "  layers.MaxPooling2D(),\n",
    "  layers.Conv2D(32, 3, padding='same', activation='relu'),\n",
    "  layers.MaxPooling2D(),\n",
    "  layers.Conv2D(64, 3, padding='same', activation='relu'),\n",
    "  layers.MaxPooling2D(),\n",
    "  layers.Dropout(0.2),\n",
    "  layers.Flatten(),\n",
    "  layers.Dense(128, activation='relu'),\n",
    "  layers.Dense(num_classes)\n",
    "])"
   ]
  },
  {
   "cell_type": "markdown",
   "metadata": {
    "colab_type": "text",
    "id": "L4nEcuqgZLbi"
   },
   "source": [
    "## Compile and train the model"
   ]
  },
  {
   "cell_type": "code",
   "execution_count": null,
   "metadata": {
    "colab": {},
    "colab_type": "code",
    "id": "EvyAINs9ZOmJ"
   },
   "outputs": [],
   "source": [
    "model.compile(optimizer='adam',\n",
    "              loss=tf.keras.losses.SparseCategoricalCrossentropy(from_logits=True),\n",
    "              metrics=['accuracy'])"
   ]
  },
  {
   "cell_type": "code",
   "execution_count": null,
   "metadata": {
    "colab": {},
    "colab_type": "code",
    "id": "wWLkKoKjZSoC"
   },
   "outputs": [],
   "source": [
    "model.summary()"
   ]
  },
  {
   "cell_type": "code",
   "execution_count": null,
   "metadata": {
    "colab": {},
    "colab_type": "code",
    "id": "LWS-vvNaZDag"
   },
   "outputs": [],
   "source": [
    "epochs = 15\n",
    "history = model.fit(\n",
    "  train_ds,\n",
    "  validation_data=val_ds,\n",
    "  epochs=epochs\n",
    ")"
   ]
  },
  {
   "cell_type": "markdown",
   "metadata": {
    "colab_type": "text",
    "id": "Lkdl8VsBbZOu"
   },
   "source": [
    "## Visualize training results\n",
    "\n",
    "After applying data augmentation and Dropout, there is less overfitting than before, and training and validation accuracy are closer aligned. "
   ]
  },
  {
   "cell_type": "code",
   "execution_count": null,
   "metadata": {
    "colab": {},
    "colab_type": "code",
    "id": "dduoLfKsZVIA"
   },
   "outputs": [],
   "source": [
    "acc = history.history['accuracy']\n",
    "val_acc = history.history['val_accuracy']\n",
    "\n",
    "loss = history.history['loss']\n",
    "val_loss = history.history['val_loss']\n",
    "\n",
    "epochs_range = range(epochs)\n",
    "\n",
    "plt.figure(figsize=(8, 8))\n",
    "plt.subplot(1, 2, 1)\n",
    "plt.plot(epochs_range, acc, label='Training Accuracy')\n",
    "plt.plot(epochs_range, val_acc, label='Validation Accuracy')\n",
    "plt.legend(loc='lower right')\n",
    "plt.title('Training and Validation Accuracy')\n",
    "\n",
    "plt.subplot(1, 2, 2)\n",
    "plt.plot(epochs_range, loss, label='Training Loss')\n",
    "plt.plot(epochs_range, val_loss, label='Validation Loss')\n",
    "plt.legend(loc='upper right')\n",
    "plt.title('Training and Validation Loss')\n",
    "plt.show()"
   ]
  },
  {
   "cell_type": "markdown",
   "metadata": {
    "colab_type": "text",
    "id": "dtv5VbaVb-3W"
   },
   "source": [
    "## Predict on new data"
   ]
  },
  {
   "cell_type": "markdown",
   "metadata": {
    "colab_type": "text",
    "id": "10buWpJbcCQz"
   },
   "source": [
    "Finally, let's use our model to classify an image that wasn't included in the training or validation sets."
   ]
  },
  {
   "cell_type": "markdown",
   "metadata": {
    "colab_type": "text",
    "id": "NKgMZ4bDcHf7"
   },
   "source": [
    "Note: Data augmentation and Dropout layers are inactive at inference time."
   ]
  },
  {
   "cell_type": "code",
   "execution_count": null,
   "metadata": {
    "colab": {},
    "colab_type": "code",
    "id": "dC40sRITBSsQ"
   },
   "outputs": [],
   "source": [
    "!wget https://github.com/sdgroeve/ML-course-VIB-2020/raw/master/NV.jpg\n",
    "\n",
    "sunflower_path = \"NV.jpg\"\n",
    "\n",
    "img = keras.preprocessing.image.load_img(\n",
    "    sunflower_path, target_size=(img_height, img_width)\n",
    ")\n",
    "img_array = keras.preprocessing.image.img_to_array(img)\n",
    "img_array = tf.expand_dims(img_array, 0) # Create a batch\n",
    "\n",
    "predictions = model.predict(img_array)\n",
    "score = tf.nn.softmax(predictions[0])\n",
    "\n",
    "print(\n",
    "    \"This image most likely belongs to {} with a {:.2f} percent confidence.\"\n",
    "    .format(class_names[np.argmax(score)], 100 * np.max(score))\n",
    ")"
   ]
  },
  {
   "cell_type": "code",
   "execution_count": null,
   "metadata": {
    "colab": {},
    "colab_type": "code",
    "id": "rXOF0wRAtMRz"
   },
   "outputs": [],
   "source": []
  }
 ],
 "metadata": {
  "accelerator": "TPU",
  "colab": {
   "collapsed_sections": [],
   "name": "Melanoma_CNN.ipynb",
   "private_outputs": true,
   "provenance": [],
   "toc_visible": true
  },
  "kernelspec": {
   "display_name": "Python 3 (ipykernel)",
   "language": "python",
   "name": "python3"
  },
  "language_info": {
   "codemirror_mode": {
    "name": "ipython",
    "version": 3
   },
   "file_extension": ".py",
   "mimetype": "text/x-python",
   "name": "python",
   "nbconvert_exporter": "python",
   "pygments_lexer": "ipython3",
   "version": "3.11.4"
  }
 },
 "nbformat": 4,
 "nbformat_minor": 1
}
